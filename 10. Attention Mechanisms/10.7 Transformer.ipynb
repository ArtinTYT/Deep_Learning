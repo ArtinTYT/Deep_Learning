{
 "cells": [
  {
   "cell_type": "code",
   "id": "initial_id",
   "metadata": {
    "collapsed": true
   },
   "source": [
    "import math\n",
    "import pandas as pd\n",
    "import torch\n",
    "from torch import nn\n",
    "from d2l import torch as d2l"
   ],
   "outputs": [],
   "execution_count": null
  },
  {
   "metadata": {},
   "cell_type": "markdown",
   "source": [
    "# 1. 基于位置的前馈网络\n",
    "\n",
    "### 理解要点：\n",
    "- 这个FFN是Transformer里每一层（Encoder/Decoder Block）必备模块。\n",
    "- **Position-wise** 的意思：对序列每个位置，单独做两层MLP，不混合不同token位置的信息。\n",
    "- 常见结构：Linear → ReLU → Linear\n",
    "- 作用：提升模型的非线性表达力，相当于给每个位置加“小脑子”。"
   ],
   "id": "9da0e4165d7d473"
  },
  {
   "metadata": {},
   "cell_type": "code",
   "source": [
    "class PositionWiseFFN(nn.Module):\n",
    "    \"\"\"基于位置的前馈网络（Position-wise Feedforward Network, FFN）\"\"\"\n",
    "    def __init__(self, ffn_num_input, ffn_num_hiddens, ffn_num_outputs, **kwargs):\n",
    "        super().__init__(**kwargs)\n",
    "        # 第一层线性变换，输入维->隐藏维\n",
    "        self.dense1 = nn.Linear(ffn_num_input, ffn_num_hiddens)\n",
    "        # 激活函数ReLU\n",
    "        self.relu = nn.ReLU()\n",
    "        # 第二层线性变换，隐藏维->输出维\n",
    "        self.dense2 = nn.Linear(ffn_num_hiddens, ffn_num_outputs)\n",
    "\n",
    "    def forward(self, X):\n",
    "        # X形状: (batch_size, 序列长度, 输入维)\n",
    "        # 每个序列位置独立地过两层全连接+激活\n",
    "        return self.dense2(self.relu(self.dense1(X)))\n"
   ],
   "id": "65cd81a171aa21d4",
   "outputs": [],
   "execution_count": null
  },
  {
   "metadata": {},
   "cell_type": "code",
   "source": [
    "ffn = PositionWiseFFN(4, 4, 8)\n",
    "ffn.eval()\n",
    "ffn(torch.ones((2, 3, 4)))[0]"
   ],
   "id": "910f589715a8727d",
   "outputs": [],
   "execution_count": null
  },
  {
   "metadata": {},
   "cell_type": "markdown",
   "source": "# 2. 残差连接和层规范化",
   "id": "b0384b9e56d0ad4e"
  },
  {
   "metadata": {},
   "cell_type": "code",
   "source": [
    "ln = nn.LayerNorm(2)\n",
    "bn = nn.BatchNorm1d(2)\n",
    "X = torch.tensor([[1, 2], [2, 3]], dtype=torch.float32)\n",
    "# LayerNorm按最后一个维度归一化，BatchNorm按batch归一化\n",
    "print('layer norm:', ln(X), '\\nbatch norm:', bn(X))"
   ],
   "id": "5a48b6f8b70a6388",
   "outputs": [],
   "execution_count": null
  },
  {
   "metadata": {},
   "cell_type": "code",
   "source": [
    "class AddNorm(nn.Module):\n",
    "    \"\"\"残差连接后做层归一化（Add + LayerNorm）\"\"\"\n",
    "    def __init__(self, normalized_shape, dropout, **kwargs):\n",
    "        super().__init__(**kwargs)\n",
    "        self.dropout = nn.Dropout(dropout)\n",
    "        self.ln = nn.LayerNorm(normalized_shape)  # 层归一化\n",
    "\n",
    "    def forward(self, X, Y):\n",
    "        # Y: 子层输出，X: 残差（原输入）\n",
    "        # 先做dropout，残差相加，再归一化\n",
    "        return self.ln(self.dropout(Y) + X)"
   ],
   "id": "2a32b173993c6b31",
   "outputs": [],
   "execution_count": null
  },
  {
   "metadata": {},
   "cell_type": "code",
   "source": [
    "add_norm = AddNorm([3, 4], 0.5)\n",
    "add_norm.eval()\n",
    "add_norm(torch.ones((2, 3, 4)), torch.ones((2, 3, 4))).shape"
   ],
   "id": "ed6905699a81229b",
   "outputs": [],
   "execution_count": null
  },
  {
   "metadata": {},
   "cell_type": "markdown",
   "source": [
    "# 3. 编码器\n",
    "\n",
    "- 残差连接：输出=主分支+输入（跳过层），防止深层模型退化。\n",
    "- LayerNorm：对每个token的全部特征做归一化，提升收敛和稳定性。\n",
    "- Dropout：正则化，防止过拟合。\n"
   ],
   "id": "c5596e91121df0f0"
  },
  {
   "metadata": {},
   "cell_type": "code",
   "source": [
    "class EncoderBlock(nn.Module):\n",
    "    \"\"\"Transformer编码器块（Encoder Block）\"\"\"\n",
    "    def __init__(self, key_size, query_size, value_size, num_hiddens,\n",
    "                 norm_shape, ffn_num_input, ffn_num_hiddens, num_heads,\n",
    "                 dropout, use_bias=False, **kwargs):\n",
    "        super().__init__(**kwargs)\n",
    "        # 多头自注意力\n",
    "        self.attention = d2l.MultiHeadAttention(\n",
    "            key_size, query_size, value_size, num_hiddens, num_heads, dropout, use_bias)\n",
    "        # 残差+层归一化\n",
    "        self.addnorm1 = AddNorm(norm_shape, dropout)\n",
    "        # 位置前馈网络\n",
    "        self.ffn = PositionWiseFFN(ffn_num_input, ffn_num_hiddens, num_hiddens)\n",
    "        self.addnorm2 = AddNorm(norm_shape, dropout)\n",
    "\n",
    "    def forward(self, X, valid_lens):\n",
    "        # 1. 多头自注意力 + 残差 + LayerNorm\n",
    "        Y = self.addnorm1(X, self.attention(X, X, X, valid_lens))\n",
    "        # 2. FFN + 残差 + LayerNorm\n",
    "        return self.addnorm2(Y, self.ffn(Y))\n"
   ],
   "id": "e28fa9460bd9e712",
   "outputs": [],
   "execution_count": null
  },
  {
   "metadata": {},
   "cell_type": "code",
   "source": [
    "X = torch.ones((2, 100, 24))\n",
    "valid_lens = torch.tensor([3, 2])\n",
    "encoder_blk = EncoderBlock(24, 24, 24, 24, [100, 24], 24, 48, 8, 0.5)\n",
    "encoder_blk.eval()\n",
    "encoder_blk(X, valid_lens).shape"
   ],
   "id": "d677d8ceee7fe597",
   "outputs": [],
   "execution_count": null
  },
  {
   "metadata": {},
   "cell_type": "code",
   "source": [
    "class TransformerEncoder(d2l.Encoder):\n",
    "    \"\"\"Transformer整体编码器（可多层堆叠）\"\"\"\n",
    "    def __init__(self, vocab_size, key_size, query_size, value_size,\n",
    "                 num_hiddens, norm_shape, ffn_num_input, ffn_num_hiddens,\n",
    "                 num_heads, num_layers, dropout, use_bias=False, **kwargs):\n",
    "        super().__init__(**kwargs)\n",
    "        self.num_hiddens = num_hiddens\n",
    "        # token embedding层\n",
    "        self.embedding = nn.Embedding(vocab_size, num_hiddens)\n",
    "        # 位置编码\n",
    "        self.pos_encoding = d2l.PositionalEncoding(num_hiddens, dropout)\n",
    "        # 堆叠多个EncoderBlock\n",
    "        self.blks = nn.Sequential()\n",
    "        for i in range(num_layers):\n",
    "            self.blks.add_module(\"block\"+str(i),\n",
    "                EncoderBlock(key_size, query_size, value_size, num_hiddens,\n",
    "                             norm_shape, ffn_num_input, ffn_num_hiddens,\n",
    "                             num_heads, dropout, use_bias))\n",
    "\n",
    "    def forward(self, X, valid_lens, *args):\n",
    "        # 1. embedding并放大，2.加位置编码\n",
    "        X = self.pos_encoding(self.embedding(X) * math.sqrt(self.num_hiddens))\n",
    "        # 记录每层的attention weights（可视化分析用）\n",
    "        self.attention_weights = [None] * len(self.blks)\n",
    "        # 3. 堆叠block，层层处理\n",
    "        for i, blk in enumerate(self.blks):\n",
    "            X = blk(X, valid_lens)\n",
    "            self.attention_weights[i] = blk.attention.attention.attention_weights\n",
    "        return X\n"
   ],
   "id": "5a9521ee92f827ec",
   "outputs": [],
   "execution_count": null
  },
  {
   "metadata": {},
   "cell_type": "code",
   "source": [
    "encoder = TransformerEncoder(\n",
    "    200, 24, 24, 24, 24, [100, 24], 24, 48, 8, 2, 0.5)\n",
    "encoder.eval()\n",
    "encoder(torch.ones((2, 100), dtype=torch.long), valid_lens).shape"
   ],
   "id": "46eb9a0e681f0938",
   "outputs": [],
   "execution_count": null
  },
  {
   "metadata": {},
   "cell_type": "markdown",
   "source": [
    "# 4. 解码器\n",
    "\n",
    "### 结构总结\n",
    "- 第一层：自注意力（Masked Self-Attention）——保证生成时不会偷看未来。\n",
    "- 第二层：编码器-解码器注意力（Enc-Dec Attention）——用encoder的信息指导解码。\n",
    "- 第三层：前馈网络（FFN）——位置无关的非线性映射。\n",
    "- 每层都用AddNorm残差连接+层归一化，稳定训练。"
   ],
   "id": "5533e66fe45f914b"
  },
  {
   "metadata": {},
   "cell_type": "code",
   "source": [
    "class DecoderBlock(nn.Module):\n",
    "    \"\"\"Transformer解码器的第i个块\"\"\"\n",
    "    def __init__(self, key_size, query_size, value_size, num_hiddens,\n",
    "                 norm_shape, ffn_num_input, ffn_num_hiddens, num_heads,\n",
    "                 dropout, i, **kwargs):\n",
    "        super().__init__(**kwargs)\n",
    "        self.i = i  # 当前是第几层block\n",
    "        # 第一层：自回归自注意力（mask住未来信息）\n",
    "        self.attention1 = d2l.MultiHeadAttention(\n",
    "            key_size, query_size, value_size, num_hiddens, num_heads, dropout)\n",
    "        self.addnorm1 = AddNorm(norm_shape, dropout)\n",
    "        # 第二层：编码器-解码器注意力（能看到encoder输出）\n",
    "        self.attention2 = d2l.MultiHeadAttention(\n",
    "            key_size, query_size, value_size, num_hiddens, num_heads, dropout)\n",
    "        self.addnorm2 = AddNorm(norm_shape, dropout)\n",
    "        # 第三层：位置前馈网络\n",
    "        self.ffn = PositionWiseFFN(ffn_num_input, ffn_num_hiddens, num_hiddens)\n",
    "        self.addnorm3 = AddNorm(norm_shape, dropout)\n",
    "\n",
    "    def forward(self, X, state):\n",
    "        # state = [enc_outputs, enc_valid_lens, [key_values列表]]\n",
    "        enc_outputs, enc_valid_lens = state[0], state[1]\n",
    "        # key_values保存到当前步为止，当前block所有已生成的token表征\n",
    "        if state[2][self.i] is None:\n",
    "            key_values = X  # 训练阶段，直接全部输入\n",
    "        else:\n",
    "            key_values = torch.cat((state[2][self.i], X), axis=1)  # 推理阶段，拼接历史\n",
    "        state[2][self.i] = key_values  # 保存回state\n",
    "\n",
    "        # mask住“未来”的信息（仅能看到当前位置及之前）\n",
    "        if self.training:\n",
    "            batch_size, num_steps, _ = X.shape\n",
    "            # 构造mask矩阵，每一步只能看到前面所有token\n",
    "            dec_valid_lens = torch.arange(\n",
    "                1, num_steps + 1, device=X.device).repeat(batch_size, 1)\n",
    "        else:\n",
    "            dec_valid_lens = None  # 推理阶段按需mask\n",
    "\n",
    "        # 1. Decoder的自注意力，输入只看已生成的部分\n",
    "        X2 = self.attention1(X, key_values, key_values, dec_valid_lens)\n",
    "        Y = self.addnorm1(X, X2)  # 残差+归一化\n",
    "\n",
    "        # 2. 编码器-解码器注意力，query是decoder，key/value是encoder输出\n",
    "        Y2 = self.attention2(Y, enc_outputs, enc_outputs, enc_valid_lens)\n",
    "        Z = self.addnorm2(Y, Y2)  # 残差+归一化\n",
    "\n",
    "        # 3. 前馈网络+残差归一化\n",
    "        return self.addnorm3(Z, self.ffn(Z)), state\n"
   ],
   "id": "da165b9adfd2512e",
   "outputs": [],
   "execution_count": null
  },
  {
   "metadata": {},
   "cell_type": "code",
   "source": [
    "decoder_blk = DecoderBlock(24, 24, 24, 24, [100, 24], 24, 48, 8, 0.5, 0)\n",
    "decoder_blk.eval()\n",
    "X = torch.ones((2, 100, 24))\n",
    "state = [encoder_blk(X, valid_lens), valid_lens, [None]]\n",
    "decoder_blk(X, state)[0].shape"
   ],
   "id": "f7c141a297ead506",
   "outputs": [],
   "execution_count": null
  },
  {
   "metadata": {},
   "cell_type": "markdown",
   "source": [
    "### 结构总结/重点说明：\n",
    "- embedding + position encoding：每个token先变向量，再加顺序信息\n",
    "- 多层DecoderBlock：每层包含自注意力、编码器-解码器注意力、前馈网络，每步都记录attention权重\n",
    "- 输出层：将隐藏状态转为词表概率分布\n",
    "- state设计：支持推理时“记住”已生成内容，便于自回归生成"
   ],
   "id": "3e695ce3ee9909bd"
  },
  {
   "metadata": {},
   "cell_type": "code",
   "source": [
    "class TransformerDecoder(d2l.AttentionDecoder):\n",
    "    \"\"\"Transformer解码器整体结构\"\"\"\n",
    "    def __init__(self, vocab_size, key_size, query_size, value_size,\n",
    "                 num_hiddens, norm_shape, ffn_num_input, ffn_num_hiddens,\n",
    "                 num_heads, num_layers, dropout, **kwargs):\n",
    "        super().__init__(**kwargs)\n",
    "        self.num_hiddens = num_hiddens\n",
    "        self.num_layers = num_layers\n",
    "        # Token embedding\n",
    "        self.embedding = nn.Embedding(vocab_size, num_hiddens)\n",
    "        # 位置编码\n",
    "        self.pos_encoding = d2l.PositionalEncoding(num_hiddens, dropout)\n",
    "        # 堆叠多个DecoderBlock\n",
    "        self.blks = nn.Sequential()\n",
    "        for i in range(num_layers):\n",
    "            self.blks.add_module(\"block\"+str(i),\n",
    "                DecoderBlock(key_size, query_size, value_size, num_hiddens,\n",
    "                             norm_shape, ffn_num_input, ffn_num_hiddens,\n",
    "                             num_heads, dropout, i))\n",
    "        # 输出层，把hidden转为词表概率\n",
    "        self.dense = nn.Linear(num_hiddens, vocab_size)\n",
    "\n",
    "    def init_state(self, enc_outputs, enc_valid_lens, *args):\n",
    "        # 返回编码器输出、有效长度、每层block的历史key_values（初始化为None）\n",
    "        return [enc_outputs, enc_valid_lens, [None] * self.num_layers]\n",
    "\n",
    "    def forward(self, X, state):\n",
    "        # X: (batch, seq_len)\n",
    "        # 1. embedding，放大再加上位置编码\n",
    "        X = self.pos_encoding(self.embedding(X) * math.sqrt(self.num_hiddens))\n",
    "        # 初始化attention权重记录，用于分析/可视化\n",
    "        self._attention_weights = [[None] * len(self.blks) for _ in range (2)]\n",
    "        # 依次通过每个DecoderBlock\n",
    "        for i, blk in enumerate(self.blks):\n",
    "            X, state = blk(X, state)\n",
    "            # 保存自注意力和encoder-decoder注意力的权重（方便可视化）\n",
    "            self._attention_weights[0][i] = blk.attention1.attention.attention_weights\n",
    "            self._attention_weights[1][i] = blk.attention2.attention.attention_weights\n",
    "        # 输出层，把hidden映射到词表空间\n",
    "        return self.dense(X), state\n",
    "\n",
    "    @property\n",
    "    def attention_weights(self):\n",
    "        # 返回所有block的注意力权重\n",
    "        return self._attention_weights\n"
   ],
   "id": "bebc28f9e3092690",
   "outputs": [],
   "execution_count": null
  },
  {
   "metadata": {},
   "cell_type": "markdown",
   "source": "# 5. 训练",
   "id": "66694f3690e55fbb"
  },
  {
   "metadata": {},
   "cell_type": "code",
   "source": [
    "num_hiddens, num_layers, dropout, batch_size, num_steps = 32, 2, 0.1, 64, 10\n",
    "lr, num_epochs, device = 0.005, 200, d2l.try_gpu()\n",
    "ffn_num_input, ffn_num_hiddens, num_heads = 32, 64, 4\n",
    "key_size, query_size, value_size = 32, 32, 32\n",
    "norm_shape = [32]\n",
    "\n",
    "train_iter, src_vocab, tgt_vocab = d2l.load_data_nmt(batch_size, num_steps)\n",
    "\n",
    "encoder = TransformerEncoder(\n",
    "    len(src_vocab), key_size, query_size, value_size, num_hiddens,\n",
    "    norm_shape, ffn_num_input, ffn_num_hiddens, num_heads,\n",
    "    num_layers, dropout)\n",
    "decoder = TransformerDecoder(\n",
    "    len(tgt_vocab), key_size, query_size, value_size, num_hiddens,\n",
    "    norm_shape, ffn_num_input, ffn_num_hiddens, num_heads,\n",
    "    num_layers, dropout)\n",
    "net = d2l.EncoderDecoder(encoder, decoder)\n",
    "d2l.train_seq2seq(net, train_iter, lr, num_epochs, tgt_vocab, device)"
   ],
   "id": "b7b3a2ae7cd0f543",
   "outputs": [],
   "execution_count": null
  },
  {
   "metadata": {},
   "cell_type": "code",
   "source": [
    "engs = ['go .', \"i lost .\", 'he\\'s calm .', 'i\\'m home .']\n",
    "fras = ['va !', 'j\\'ai perdu .', 'il est calme .', 'je suis chez moi .']\n",
    "for eng, fra in zip(engs, fras):\n",
    "    translation, dec_attention_weight_seq = d2l.predict_seq2seq(\n",
    "        net, eng, src_vocab, tgt_vocab, num_steps, device, True)\n",
    "    print(f'{eng} => {translation}, ',\n",
    "          f'bleu {d2l.bleu(translation, fra, k=2):.3f}')"
   ],
   "id": "41dc66bca91cd1b7",
   "outputs": [],
   "execution_count": null
  },
  {
   "metadata": {},
   "cell_type": "code",
   "source": [
    "enc_attention_weights = torch.cat(net.encoder.attention_weights, 0).reshape((num_layers, num_heads, -1, num_steps))\n",
    "enc_attention_weights.shape"
   ],
   "id": "fa1a9da3386c6727",
   "outputs": [],
   "execution_count": null
  },
  {
   "metadata": {},
   "cell_type": "code",
   "source": [
    "d2l.show_heatmaps(\n",
    "    enc_attention_weights.cpu(), xlabel='Key positions',\n",
    "    ylabel='Query positions', titles=['Head %d' % i for i in range(1, 5)],\n",
    "    figsize=(7, 3.5))"
   ],
   "id": "1a1ba0cf4bdfa7a",
   "outputs": [],
   "execution_count": null
  },
  {
   "metadata": {},
   "cell_type": "code",
   "source": [
    "dec_attention_weights_2d = [head[0].tolist()\n",
    "                            for step in dec_attention_weight_seq\n",
    "                            for attn in step for blk in attn for head in blk]\n",
    "dec_attention_weights_filled = torch.tensor(pd.DataFrame(dec_attention_weights_2d).fillna(0.0).values)\n",
    "dec_attention_weights = dec_attention_weights_filled.reshape((-1, 2, num_layers, num_heads, num_steps))\n",
    "dec_self_attention_weights, dec_inter_attention_weights = dec_attention_weights.permute(1, 2, 3, 0, 4)\n",
    "dec_self_attention_weights.shape, dec_inter_attention_weights.shape"
   ],
   "id": "418579b95d82b8df",
   "outputs": [],
   "execution_count": null
  },
  {
   "metadata": {},
   "cell_type": "code",
   "source": [
    "# Plusonetoincludethebeginning-of-sequencetoken\n",
    "d2l.show_heatmaps(\n",
    "    dec_self_attention_weights[:, :, :, :len(translation.split()) + 1],\n",
    "    xlabel='Key positions', ylabel='Query positions',\n",
    "    titles=['Head %d' % i for i in range(1, 5)], figsize=(7, 3.5))"
   ],
   "id": "5f8816fafc4240f8",
   "outputs": [],
   "execution_count": null
  },
  {
   "metadata": {},
   "cell_type": "code",
   "source": [
    "d2l.show_heatmaps(\n",
    "    dec_inter_attention_weights, xlabel='Key positions',\n",
    "    ylabel='Query positions', titles=['Head %d' % i for i in range(1, 5)],\n",
    "    figsize=(7, 3.5))"
   ],
   "id": "9acacc16bfc81c7c",
   "outputs": [],
   "execution_count": null
  },
  {
   "metadata": {},
   "cell_type": "code",
   "source": "",
   "id": "ffe9ff07f710e257",
   "outputs": [],
   "execution_count": null
  }
 ],
 "metadata": {
  "kernelspec": {
   "display_name": "Python 3",
   "language": "python",
   "name": "python3"
  },
  "language_info": {
   "codemirror_mode": {
    "name": "ipython",
    "version": 2
   },
   "file_extension": ".py",
   "mimetype": "text/x-python",
   "name": "python",
   "nbconvert_exporter": "python",
   "pygments_lexer": "ipython2",
   "version": "2.7.6"
  }
 },
 "nbformat": 4,
 "nbformat_minor": 5
}
