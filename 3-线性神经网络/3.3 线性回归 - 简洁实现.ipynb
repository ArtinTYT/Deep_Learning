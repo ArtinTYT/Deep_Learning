{
 "cells": [
  {
   "metadata": {},
   "cell_type": "markdown",
   "source": [
    "# 线性回归的简洁实现\n",
    "\n",
    "## 1. 生成数据集"
   ],
   "id": "3a8aca8f5e109caf"
  },
  {
   "cell_type": "code",
   "id": "initial_id",
   "metadata": {
    "collapsed": true,
    "ExecuteTime": {
     "end_time": "2025-04-16T11:48:02.565760Z",
     "start_time": "2025-04-16T11:48:00.873057Z"
    }
   },
   "source": [
    "import numpy as np\n",
    "import torch\n",
    "from torch.utils import data\n",
    "from d2l import torch as d2l\n",
    "\n",
    "true_w = torch.tensor([2, -3.4])\n",
    "true_b = 4.2\n",
    "features, labels = d2l.synthetic_data(true_w, true_b, 1000)"
   ],
   "outputs": [],
   "execution_count": 1
  },
  {
   "metadata": {},
   "cell_type": "markdown",
   "source": "## 2. 调用API 来读取数据集",
   "id": "e5b570d02919fafa"
  },
  {
   "metadata": {
    "ExecuteTime": {
     "end_time": "2025-04-16T11:48:02.588875Z",
     "start_time": "2025-04-16T11:48:02.576188Z"
    }
   },
   "cell_type": "code",
   "source": [
    "def load_array(data_arrays, batch_size, is_train=True):\n",
    "    \"\"\"构造一个Pytorch 数据迭代器\"\"\"\n",
    "    dataset = data.TensorDataset(*data_arrays)\n",
    "    # DataLoader 随机抽取小批量的数据， shuffle 打乱顺序\n",
    "    return data.DataLoader(dataset, batch_size, shuffle=is_train)\n",
    "\n",
    "batch_size = 10\n",
    "data_iter = load_array((features, labels), batch_size)\n",
    "\n",
    "next(iter(data_iter))"
   ],
   "id": "d52d38b7543226ac",
   "outputs": [
    {
     "data": {
      "text/plain": [
       "[tensor([[-1.0518,  0.0756],\n",
       "         [-0.5473,  0.4023],\n",
       "         [-0.8209,  2.8097],\n",
       "         [ 0.4005, -0.9243],\n",
       "         [-0.2954,  1.2515],\n",
       "         [-0.7147, -0.6349],\n",
       "         [-1.3398, -0.3372],\n",
       "         [-1.7104,  0.5128],\n",
       "         [ 0.4626, -1.1017],\n",
       "         [-0.6894, -0.2257]]),\n",
       " tensor([[ 1.8454],\n",
       "         [ 1.7237],\n",
       "         [-6.9926],\n",
       "         [ 8.1443],\n",
       "         [-0.6439],\n",
       "         [ 4.9497],\n",
       "         [ 2.6654],\n",
       "         [-0.9584],\n",
       "         [ 8.8666],\n",
       "         [ 3.5751]])]"
      ]
     },
     "execution_count": 2,
     "metadata": {},
     "output_type": "execute_result"
    }
   ],
   "execution_count": 2
  },
  {
   "metadata": {},
   "cell_type": "markdown",
   "source": "# 3.定义模型",
   "id": "c33bcd8e80374e7b"
  },
  {
   "metadata": {
    "ExecuteTime": {
     "end_time": "2025-04-16T11:48:02.727136Z",
     "start_time": "2025-04-16T11:48:02.719905Z"
    }
   },
   "cell_type": "code",
   "source": [
    "# nn 是神经网络的缩写\n",
    "from torch import nn\n",
    "\n",
    "net = nn.Sequential(nn.Linear(2, 1))"
   ],
   "id": "b95892bb571a94ca",
   "outputs": [],
   "execution_count": 3
  },
  {
   "metadata": {},
   "cell_type": "markdown",
   "source": "# 4. 初始化模型参数",
   "id": "cab1dd2ca12c491c"
  },
  {
   "metadata": {
    "ExecuteTime": {
     "end_time": "2025-04-16T11:48:02.754314Z",
     "start_time": "2025-04-16T11:48:02.748388Z"
    }
   },
   "cell_type": "code",
   "source": [
    "net[0].weight.data.normal_(0, 0.01)\n",
    "net[0].bias.data.fill_(0)"
   ],
   "id": "2dd743e2d2e2ef4",
   "outputs": [
    {
     "data": {
      "text/plain": [
       "tensor([0.])"
      ]
     },
     "execution_count": 4,
     "metadata": {},
     "output_type": "execute_result"
    }
   ],
   "execution_count": 4
  },
  {
   "metadata": {},
   "cell_type": "markdown",
   "source": "## 5. 定义损失函数",
   "id": "fcc37547605247e4"
  },
  {
   "metadata": {
    "ExecuteTime": {
     "end_time": "2025-04-16T11:48:02.780822Z",
     "start_time": "2025-04-16T11:48:02.776834Z"
    }
   },
   "cell_type": "code",
   "source": [
    "# 平均 L_2 范数\n",
    "loss = nn.MSELoss()"
   ],
   "id": "9d392301303ef188",
   "outputs": [],
   "execution_count": 5
  },
  {
   "metadata": {},
   "cell_type": "markdown",
   "source": "## 6.定义优化算法",
   "id": "d312d3b4b0346552"
  },
  {
   "metadata": {
    "ExecuteTime": {
     "end_time": "2025-04-16T11:48:02.826722Z",
     "start_time": "2025-04-16T11:48:02.823293Z"
    }
   },
   "cell_type": "code",
   "source": [
    "# 实例化SGD算法\n",
    "trainer = torch.optim.SGD(net.parameters(), lr=0.03)"
   ],
   "id": "5ef9038b8c30dfe8",
   "outputs": [],
   "execution_count": 6
  },
  {
   "metadata": {},
   "cell_type": "markdown",
   "source": "## 7. 训练",
   "id": "f3b86cad8842b03"
  },
  {
   "metadata": {
    "ExecuteTime": {
     "end_time": "2025-04-16T11:48:02.899709Z",
     "start_time": "2025-04-16T11:48:02.837139Z"
    }
   },
   "cell_type": "code",
   "source": [
    "num_epochs = 3\n",
    "\n",
    "for epoch in range(num_epochs):\n",
    "    for X, y in data_iter:\n",
    "        l = loss(net(X), y)\n",
    "        # 清零\n",
    "        trainer.zero_grad()\n",
    "        l.backward()\n",
    "        # 模型更新\n",
    "        trainer.step()\n",
    "\n",
    "    l = loss(net(features), labels)\n",
    "    print(f'epoch {epoch + 1}, loss {l:f}')"
   ],
   "id": "e10a3c9b1ab21357",
   "outputs": [
    {
     "name": "stdout",
     "output_type": "stream",
     "text": [
      "epoch 1, loss 0.000261\n",
      "epoch 2, loss 0.000100\n",
      "epoch 3, loss 0.000101\n"
     ]
    }
   ],
   "execution_count": 7
  },
  {
   "metadata": {},
   "cell_type": "markdown",
   "source": "## 8.评估结果",
   "id": "6fe042f1b6223093"
  },
  {
   "metadata": {
    "ExecuteTime": {
     "end_time": "2025-04-16T11:48:03.019977Z",
     "start_time": "2025-04-16T11:48:03.014918Z"
    }
   },
   "cell_type": "code",
   "source": [
    "w = net[0].weight.data\n",
    "print('w的估计误差：', true_w - w.reshape(true_w.shape))\n",
    "b = net[0].bias.data\n",
    "print('b的估计误差：', true_b - b)"
   ],
   "id": "a11b410683f1a717",
   "outputs": [
    {
     "name": "stdout",
     "output_type": "stream",
     "text": [
      "w的估计误差： tensor([-0.0005, -0.0014])\n",
      "b的估计误差： tensor([-0.0006])\n"
     ]
    }
   ],
   "execution_count": 8
  }
 ],
 "metadata": {
  "kernelspec": {
   "display_name": "Python 3 (ipykernel)",
   "language": "python",
   "name": "python3"
  },
  "language_info": {
   "codemirror_mode": {
    "name": "ipython",
    "version": 2
   },
   "file_extension": ".py",
   "mimetype": "text/x-python",
   "name": "python",
   "nbconvert_exporter": "python",
   "pygments_lexer": "ipython2",
   "version": "2.7.6"
  }
 },
 "nbformat": 4,
 "nbformat_minor": 5
}
