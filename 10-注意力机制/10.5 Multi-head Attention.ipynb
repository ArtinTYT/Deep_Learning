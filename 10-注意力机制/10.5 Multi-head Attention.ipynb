{
 "cells": [
  {
   "cell_type": "code",
   "id": "initial_id",
   "metadata": {
    "collapsed": true,
    "ExecuteTime": {
     "end_time": "2025-05-27T08:12:07.795952Z",
     "start_time": "2025-05-27T08:12:05.795920Z"
    }
   },
   "source": [
    "import math\n",
    "import torch\n",
    "from torch import nn\n",
    "from d2l import torch as d2l"
   ],
   "outputs": [],
   "execution_count": 1
  },
  {
   "metadata": {},
   "cell_type": "markdown",
   "source": "# 实现",
   "id": "6114da920041f82a"
  },
  {
   "metadata": {
    "ExecuteTime": {
     "end_time": "2025-05-27T08:12:07.895983Z",
     "start_time": "2025-05-27T08:12:07.890742Z"
    }
   },
   "cell_type": "code",
   "source": [
    "class MultiHeadAttention(nn.Module):\n",
    "    \"\"\"多头注意力（Multi-Head Attention）\"\"\"\n",
    "    def __init__(self, key_size, query_size, value_size, num_hiddens, num_heads, dropout, bias=False, **kwargs):\n",
    "        super().__init__(**kwargs)\n",
    "        self.num_heads = num_heads  # 头数\n",
    "        # 每个头都用点积注意力（可换成别的attention机制）\n",
    "        self.attention = d2l.DotProductAttention(dropout)\n",
    "        # 输入全部映射到num_hiddens维（等于num_heads*每头宽度）\n",
    "        self.W_q = nn.Linear(query_size, num_hiddens, bias=bias)\n",
    "        self.W_k = nn.Linear(key_size, num_hiddens, bias=bias)\n",
    "        self.W_v = nn.Linear(value_size, num_hiddens, bias=bias)\n",
    "        # 多头输出再映射回num_hiddens\n",
    "        self.W_o = nn.Linear(num_hiddens, num_hiddens, bias=bias)\n",
    "\n",
    "    def forward(self, queries, keys, values, valid_lens):\n",
    "        # 输入:\n",
    "        # queries, keys, values: (batch_size, 查询数/键值对数, num_hiddens)\n",
    "        # valid_lens: (batch_size,) 或 (batch_size, 查询数)\n",
    "        # 1. 投影Q/K/V到num_hiddens维，然后拆分成num_heads个头\n",
    "        queries = transpose_qkv(self.W_q(queries), self.num_heads)\n",
    "        keys   = transpose_qkv(self.W_k(keys),   self.num_heads)\n",
    "        values = transpose_qkv(self.W_v(values), self.num_heads)\n",
    "\n",
    "        if valid_lens is not None:\n",
    "            # 每个头都复用一份mask\n",
    "            valid_lens = torch.repeat_interleave(\n",
    "                valid_lens, repeats=self.num_heads, dim=0)\n",
    "\n",
    "        # 2. 每个头独立做attention计算（并行处理）\n",
    "        # output: (batch_size*num_heads, 查询数, num_hiddens/num_heads)\n",
    "        output = self.attention(queries, keys, values, valid_lens)\n",
    "\n",
    "        # 3. 把多头的输出合并回去\n",
    "        # output_concat: (batch_size, 查询数, num_hiddens)\n",
    "        output_concat = transpose_output(output, self.num_heads)\n",
    "        # 4. 再通过线性层融合不同头的信息\n",
    "        return self.W_o(output_concat)\n"
   ],
   "id": "c90b5e35e7214c76",
   "outputs": [],
   "execution_count": 2
  },
  {
   "metadata": {
    "ExecuteTime": {
     "end_time": "2025-05-16T09:54:30.889079Z",
     "start_time": "2025-05-16T09:54:30.883449Z"
    }
   },
   "cell_type": "code",
   "source": [
    "def transpose_qkv(X, num_heads):\n",
    "    \"\"\"把Q/K/V变成多头结构，便于并行计算\"\"\"\n",
    "    # X: (batch_size, seq_len, num_hiddens)\n",
    "    # 1. 先把num_hiddens分成num_heads份：(batch, seq, num_heads, head_dim)\n",
    "    X = X.reshape(X.shape[0], X.shape[1], num_heads, -1)\n",
    "    # 2. 交换num_heads和seq_len轴：(batch, num_heads, seq, head_dim)\n",
    "    X = X.permute(0, 2, 1, 3)\n",
    "    # 3. 合并batch和num_heads：方便用batch维并行算attention\n",
    "    # (batch*num_heads, seq, head_dim)\n",
    "    return X.reshape(-1, X.shape[2], X.shape[3])\n",
    "\n",
    "def transpose_output(X, num_heads):\n",
    "    \"\"\"把多头的输出合并回原始结构\"\"\"\n",
    "    # X: (batch*num_heads, seq, head_dim)\n",
    "    # 1. 拆出num_heads: (batch, num_heads, seq, head_dim)\n",
    "    X = X.reshape(-1, num_heads, X.shape[1], X.shape[2])\n",
    "    # 2. 交换回(seq, num_heads)的位置: (batch, seq, num_heads, head_dim)\n",
    "    X = X.permute(0, 2, 1, 3)\n",
    "    # 3. 最后合并num_heads和head_dim：(batch, seq, num_heads*head_dim)\n",
    "    return X.reshape(X.shape[0], X.shape[1], -1)"
   ],
   "id": "f7dc657617bbd5db",
   "outputs": [],
   "execution_count": 3
  },
  {
   "metadata": {
    "ExecuteTime": {
     "end_time": "2025-05-16T09:54:36.431899Z",
     "start_time": "2025-05-16T09:54:36.426961Z"
    }
   },
   "cell_type": "code",
   "source": [
    "num_hiddens, num_heads = 100, 5\n",
    "attention = MultiHeadAttention(num_hiddens, num_hiddens, num_hiddens,\n",
    "                               num_hiddens, num_heads, 0.5)\n",
    "attention.eval()"
   ],
   "id": "4f1ce00e75178d61",
   "outputs": [
    {
     "data": {
      "text/plain": [
       "MultiHeadAttention(\n",
       "  (attention): DotProductAttention(\n",
       "    (dropout): Dropout(p=0.5, inplace=False)\n",
       "  )\n",
       "  (W_q): Linear(in_features=100, out_features=100, bias=False)\n",
       "  (W_k): Linear(in_features=100, out_features=100, bias=False)\n",
       "  (W_v): Linear(in_features=100, out_features=100, bias=False)\n",
       "  (W_o): Linear(in_features=100, out_features=100, bias=False)\n",
       ")"
      ]
     },
     "execution_count": 4,
     "metadata": {},
     "output_type": "execute_result"
    }
   ],
   "execution_count": 4
  },
  {
   "metadata": {
    "ExecuteTime": {
     "end_time": "2025-05-16T09:54:42.818077Z",
     "start_time": "2025-05-16T09:54:42.809395Z"
    }
   },
   "cell_type": "code",
   "source": [
    "batch_size, num_queries = 2, 4\n",
    "num_kvpairs, valid_lens =  6, torch.tensor([3, 2])\n",
    "X = torch.ones((batch_size, num_queries, num_hiddens))\n",
    "Y = torch.ones((batch_size, num_kvpairs, num_hiddens))\n",
    "attention(X, Y, Y, valid_lens).shape"
   ],
   "id": "9186dd73c18c8e19",
   "outputs": [
    {
     "data": {
      "text/plain": [
       "torch.Size([2, 4, 100])"
      ]
     },
     "execution_count": 5,
     "metadata": {},
     "output_type": "execute_result"
    }
   ],
   "execution_count": 5
  },
  {
   "metadata": {},
   "cell_type": "code",
   "outputs": [],
   "execution_count": null,
   "source": "",
   "id": "ddd5e79c7d067275"
  }
 ],
 "metadata": {
  "kernelspec": {
   "display_name": "Python 3",
   "language": "python",
   "name": "python3"
  },
  "language_info": {
   "codemirror_mode": {
    "name": "ipython",
    "version": 2
   },
   "file_extension": ".py",
   "mimetype": "text/x-python",
   "name": "python",
   "nbconvert_exporter": "python",
   "pygments_lexer": "ipython2",
   "version": "2.7.6"
  }
 },
 "nbformat": 4,
 "nbformat_minor": 5
}
