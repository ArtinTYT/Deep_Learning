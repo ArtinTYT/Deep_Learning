{
 "cells": [
  {
   "cell_type": "code",
   "id": "initial_id",
   "metadata": {
    "collapsed": true,
    "ExecuteTime": {
     "end_time": "2025-05-26T18:24:53.623100Z",
     "start_time": "2025-05-26T18:24:51.982917Z"
    }
   },
   "source": [
    "import torch\n",
    "from torch import nn\n",
    "from d2l import torch as d2l"
   ],
   "outputs": [],
   "execution_count": 1
  },
  {
   "metadata": {},
   "cell_type": "markdown",
   "source": "# BERT 来自Transformer的双向编码器表示",
   "id": "28c9dd01decf45ac"
  },
  {
   "metadata": {},
   "cell_type": "markdown",
   "source": "## 1. 输入表示",
   "id": "fba4f3884f241ad4"
  },
  {
   "metadata": {
    "ExecuteTime": {
     "end_time": "2025-05-26T18:25:22.588771Z",
     "start_time": "2025-05-26T18:25:22.585569Z"
    }
   },
   "cell_type": "code",
   "source": [
    "# 获取输入tokens和对应片段编号（A段为0，B段为1），适配BERT输入结构\n",
    "def get_tokens_and_segments(tokens_a, tokens_b=None):\n",
    "    \"\"\"获取输入序列的词元及其片段索引\"\"\"\n",
    "    tokens = ['<cls>'] + tokens_a + ['<sep>']  # 开头加<cls>，结尾加<sep>\n",
    "    segments = [0] * (len(tokens_a) + 2)  # 对应tokens_a的全部是0\n",
    "    if tokens_b is not None:  # 如果有第二句（B段）\n",
    "        tokens += tokens_b + ['<sep>']  # 加B段和分隔符\n",
    "        segments += [1] * (len(tokens_b) + 1)  # B段的全部用1表示\n",
    "    return tokens, segments\n"
   ],
   "id": "eed3cd11aef2486",
   "outputs": [],
   "execution_count": 2
  },
  {
   "metadata": {},
   "cell_type": "markdown",
   "source": "## 2. BERT编码器实现",
   "id": "1cb0497aa677d3b3"
  },
  {
   "metadata": {
    "ExecuteTime": {
     "end_time": "2025-05-26T18:25:30.236981Z",
     "start_time": "2025-05-26T18:25:30.231406Z"
    }
   },
   "cell_type": "code",
   "source": [
    "# BERT编码器，输入词元索引和片段信息，输出每个位置的上下文特征\n",
    "class BERTEncoder(nn.Module):\n",
    "    \"\"\"BERT编码器\"\"\"\n",
    "\n",
    "    def __init__(self, vocab_size, num_hiddens, norm_shape, ffn_num_input,\n",
    "                 ffn_num_hiddens, num_heads, num_layers, dropout,\n",
    "                 max_len=1000, key_size=768, query_size=768, value_size=768,\n",
    "                 **kwargs):\n",
    "        super(BERTEncoder, self).__init__(**kwargs)\n",
    "        # 词嵌入层：把词编号映射到稠密向量\n",
    "        self.token_embedding = nn.Embedding(vocab_size, num_hiddens)\n",
    "        # 片段嵌入：区分A/B句\n",
    "        self.segment_embedding = nn.Embedding(2, num_hiddens)\n",
    "        # 编码器堆叠多层Transformer block\n",
    "        self.blks = nn.Sequential()\n",
    "        for i in range(num_layers):\n",
    "            self.blks.add_module(f\"{i}\", d2l.EncoderBlock(\n",
    "                key_size, query_size, value_size, num_hiddens, norm_shape,\n",
    "                ffn_num_input, ffn_num_hiddens, num_heads, dropout, True))\n",
    "        # 可学习的位置嵌入（不像transformer原版那样直接用三角函数）\n",
    "        self.pos_embedding = nn.Parameter(torch.randn(1, max_len, num_hiddens))\n",
    "\n",
    "    def forward(self, tokens, segments, valid_lens):\n",
    "        # 加和词嵌入、片段嵌入、位置嵌入\n",
    "        X = self.token_embedding(tokens) + self.segment_embedding(segments)\n",
    "        X = X + self.pos_embedding.data[:, :X.shape[1], :]\n",
    "        # 经过多层transformer block编码\n",
    "        for blk in self.blks:\n",
    "            X = blk(X, valid_lens)\n",
    "        return X\n"
   ],
   "id": "caf949df3757700f",
   "outputs": [],
   "execution_count": 3
  },
  {
   "metadata": {},
   "cell_type": "markdown",
   "source": "## 3. 运行实例：初始化BERTEncoder并编码输入",
   "id": "d823ecf0dffe0bc2"
  },
  {
   "metadata": {
    "ExecuteTime": {
     "end_time": "2025-05-26T18:25:36.210810Z",
     "start_time": "2025-05-26T18:25:36.092237Z"
    }
   },
   "cell_type": "code",
   "source": [
    "# 设定超参数并实例化编码器\n",
    "vocab_size, num_hiddens, ffn_num_hiddens, num_heads = 10000, 768, 1024, 4\n",
    "norm_shape, ffn_num_input, num_layers, dropout = [768], 768, 2, 0.2\n",
    "encoder = BERTEncoder(vocab_size, num_hiddens, norm_shape, ffn_num_input,\n",
    "                      ffn_num_hiddens, num_heads, num_layers, dropout)\n",
    "\n",
    "# 伪造一批tokens和片段索引输入（batch_size=2，长度=8）\n",
    "tokens = torch.randint(0, vocab_size, (2, 8))\n",
    "segments = torch.tensor([[0, 0, 0, 0, 1, 1, 1, 1], [0, 0, 0, 1, 1, 1, 1, 1]])\n",
    "# 编码输出，每个token都获得一个特征向量\n",
    "encoded_X = encoder(tokens, segments, None)\n",
    "encoded_X.shape  # [2, 8, 768]\n"
   ],
   "id": "2d86597325666567",
   "outputs": [],
   "execution_count": 4
  },
  {
   "metadata": {},
   "cell_type": "markdown",
   "source": [
    "# 2. 预训练任务\n",
    "## 4. 掩蔽语言模型（MLM，Masked Language Modeling）"
   ],
   "id": "dcad4b9d3016804f"
  },
  {
   "metadata": {
    "ExecuteTime": {
     "end_time": "2025-05-26T18:26:49.262645Z",
     "start_time": "2025-05-26T18:26:49.257555Z"
    }
   },
   "cell_type": "code",
   "source": [
    "# BERT的MLM头，用于预测被掩蔽的词\n",
    "class MaskLM(nn.Module):\n",
    "    \"\"\"BERT的掩蔽语言模型任务\"\"\"\n",
    "    def __init__(self, vocab_size, num_hiddens, num_inputs=768, **kwargs):\n",
    "        super(MaskLM, self).__init__(**kwargs)\n",
    "        # 一个两层MLP，最后输出为vocab_size分类\n",
    "        self.mlp = nn.Sequential(\n",
    "            nn.Linear(num_inputs, num_hiddens),  # 隐藏层\n",
    "            nn.ReLU(),\n",
    "            nn.LayerNorm(num_hiddens),  # 层归一化\n",
    "            nn.Linear(num_hiddens, vocab_size))  # 输出vocab_size\n",
    "\n",
    "    def forward(self, X, pred_positions):\n",
    "        # X: [batch, seq_len, hidden]; pred_positions: [batch, num_pred]\n",
    "        num_pred_positions = pred_positions.shape[1]\n",
    "        pred_positions = pred_positions.reshape(-1)  # 展平成一维\n",
    "        batch_size = X.shape[0]\n",
    "        # batch_idx生成每个预测位置对应的batch号\n",
    "        batch_idx = torch.arange(0, batch_size)\n",
    "        batch_idx = torch.repeat_interleave(batch_idx, num_pred_positions)\n",
    "        # 挑选所有被mask的位置的特征\n",
    "        masked_X = X[batch_idx, pred_positions]\n",
    "        masked_X = masked_X.reshape((batch_size, num_pred_positions, -1))\n",
    "        # 送入MLP，输出词表上的概率\n",
    "        mlm_Y_hat = self.mlp(masked_X)\n",
    "        return mlm_Y_hat\n"
   ],
   "id": "d237454c8bc9f143",
   "outputs": [],
   "execution_count": 6
  },
  {
   "metadata": {},
   "cell_type": "markdown",
   "source": "## 5. 掩蔽任务前向、损失计算示例",
   "id": "7809ce06b743499a"
  },
  {
   "metadata": {
    "ExecuteTime": {
     "end_time": "2025-05-26T18:26:55.027325Z",
     "start_time": "2025-05-26T18:26:54.989868Z"
    }
   },
   "cell_type": "code",
   "source": [
    "mlm = MaskLM(vocab_size, num_hiddens)\n",
    "mlm_positions = torch.tensor([[1, 5, 2], [6, 1, 5]])  # batch中各自mask的位置\n",
    "mlm_Y_hat = mlm(encoded_X, mlm_positions)  # 预测结果 shape: [2, 3, vocab_size]\n",
    "mlm_Y_hat.shape\n",
    "\n",
    "mlm_Y = torch.tensor([[7, 8, 9], [10, 20, 30]])  # 真实标签（被mask位置的正确词）\n",
    "loss = nn.CrossEntropyLoss(reduction='none')\n",
    "mlm_l = loss(mlm_Y_hat.reshape((-1, vocab_size)), mlm_Y.reshape(-1))  # loss shape: [6]\n",
    "mlm_l.shape\n"
   ],
   "id": "efa2916a363ead98",
   "outputs": [
    {
     "data": {
      "text/plain": [
       "torch.Size([2, 3, 10000])"
      ]
     },
     "execution_count": 7,
     "metadata": {},
     "output_type": "execute_result"
    }
   ],
   "execution_count": 7
  },
  {
   "metadata": {},
   "cell_type": "markdown",
   "source": "## 6. 下一句预测（NSP，Next Sentence Prediction）",
   "id": "b07a4d201081d1c4"
  },
  {
   "metadata": {
    "ExecuteTime": {
     "end_time": "2025-05-26T18:27:21.864620Z",
     "start_time": "2025-05-26T18:27:21.862044Z"
    }
   },
   "cell_type": "code",
   "source": [
    "# BERT的NSP头（简单的二分类器）\n",
    "class NextSentencePred(nn.Module):\n",
    "    \"\"\"BERT的下一句预测任务\"\"\"\n",
    "\n",
    "    def __init__(self, num_inputs, **kwargs):\n",
    "        super(NextSentencePred, self).__init__(**kwargs)\n",
    "        # 只需一层线性输出2类\n",
    "        self.output = nn.Linear(num_inputs, 2)\n",
    "\n",
    "    def forward(self, X):\n",
    "        # X: (batch_size, num_hiddens) 只用CLS特征\n",
    "        return self.output(X)"
   ],
   "id": "2a4b1c11114d91e1",
   "outputs": [],
   "execution_count": 9
  },
  {
   "metadata": {
    "ExecuteTime": {
     "end_time": "2025-05-26T18:27:27.657324Z",
     "start_time": "2025-05-26T18:27:27.651663Z"
    }
   },
   "cell_type": "code",
   "source": [
    "encoded_X = torch.flatten(encoded_X, start_dim=1)  # flatten保证输入合适\n",
    "nsp = NextSentencePred(encoded_X.shape[-1])\n",
    "nsp_Y_hat = nsp(encoded_X)\n",
    "nsp_Y_hat.shape\n",
    "nsp_y = torch.tensor([0, 1])  # 0/1为标签\n",
    "nsp_l = loss(nsp_Y_hat, nsp_y)\n",
    "nsp_l.shape"
   ],
   "id": "ea2e70a8f9c03c5a",
   "outputs": [
    {
     "data": {
      "text/plain": [
       "torch.Size([2, 2])"
      ]
     },
     "execution_count": 10,
     "metadata": {},
     "output_type": "execute_result"
    }
   ],
   "execution_count": 10
  },
  {
   "metadata": {},
   "cell_type": "markdown",
   "source": "## 7. BERT完整模型整合",
   "id": "4b5e24a681240570"
  },
  {
   "metadata": {
    "ExecuteTime": {
     "end_time": "2025-05-26T18:28:01.383220Z",
     "start_time": "2025-05-26T18:28:01.374624Z"
    }
   },
   "cell_type": "code",
   "source": [
    "# 组合编码器、MLM头和NSP头，组成完整BERT\n",
    "class BERTModel(nn.Module):\n",
    "    \"\"\"BERT模型\"\"\"\n",
    "\n",
    "    def __init__(self, vocab_size, num_hiddens, norm_shape, ffn_num_input,\n",
    "                 ffn_num_hiddens, num_heads, num_layers, dropout,\n",
    "                 max_len=1000, key_size=768, query_size=768, value_size=768,\n",
    "                 hid_in_features=768, mlm_in_features=768,\n",
    "                 nsp_in_features=768):\n",
    "        super(BERTModel, self).__init__()\n",
    "        # 编码器\n",
    "        self.encoder = BERTEncoder(vocab_size, num_hiddens, norm_shape,\n",
    "                                   ffn_num_input, ffn_num_hiddens, num_heads, num_layers,\n",
    "                                   dropout, max_len=max_len, key_size=key_size,\n",
    "                                   query_size=query_size, value_size=value_size)\n",
    "        # 对CLS位置做一个线性映射再激活，为NSP做准备\n",
    "        self.hidden = nn.Sequential(\n",
    "            nn.Linear(hid_in_features, num_hiddens),\n",
    "            nn.Tanh())\n",
    "        # 掩码任务和下一句任务\n",
    "        self.mlm = MaskLM(vocab_size, num_hiddens, mlm_in_features)\n",
    "        self.nsp = NextSentencePred(nsp_in_features)\n",
    "\n",
    "    def forward(self, tokens, segments, valid_lens=None, pred_positions=None):\n",
    "        # 先编码\n",
    "        encoded_X = self.encoder(tokens, segments, valid_lens)\n",
    "        # 掩码任务\n",
    "        if pred_positions is not None:\n",
    "            mlm_Y_hat = self.mlm(encoded_X, pred_positions)\n",
    "        else:\n",
    "            mlm_Y_hat = None\n",
    "        # 下一句预测用CLS位置（0号）的特征做二分类\n",
    "        nsp_Y_hat = self.nsp(self.hidden(encoded_X[:, 0, :]))\n",
    "        return encoded_X, mlm_Y_hat, nsp_Y_hat\n"
   ],
   "id": "8385cfdbbb95a1b3",
   "outputs": [],
   "execution_count": 12
  },
  {
   "metadata": {},
   "cell_type": "code",
   "outputs": [],
   "execution_count": null,
   "source": "",
   "id": "5f908866f1105e5"
  }
 ],
 "metadata": {
  "kernelspec": {
   "display_name": "Python 3",
   "language": "python",
   "name": "python3"
  },
  "language_info": {
   "codemirror_mode": {
    "name": "ipython",
    "version": 2
   },
   "file_extension": ".py",
   "mimetype": "text/x-python",
   "name": "python",
   "nbconvert_exporter": "python",
   "pygments_lexer": "ipython2",
   "version": "2.7.6"
  }
 },
 "nbformat": 4,
 "nbformat_minor": 5
}
