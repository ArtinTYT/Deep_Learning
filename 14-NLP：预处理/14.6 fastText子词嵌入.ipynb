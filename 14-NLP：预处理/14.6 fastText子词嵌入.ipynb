{
 "cells": [
  {
   "metadata": {},
   "cell_type": "markdown",
   "source": [
    "# 子词嵌入Subword Embedding\n",
    "\n",
    "## 1. fastText模型\n",
    "\n",
    "$$ \\mathbf{v}_w = \\sum_{g\\in\\mathcal{G}_w} \\mathbf{z}_g $$\n",
    "\n",
    "## 2. 字节对编码（Byte Pair Encoding）"
   ],
   "id": "4d613ffb77f34310"
  },
  {
   "cell_type": "code",
   "execution_count": null,
   "id": "initial_id",
   "metadata": {
    "collapsed": true
   },
   "outputs": [],
   "source": [
    "import collections\n",
    "\n",
    "# 预定义所有可能的符号，包括小写字母、下划线和未知标记\n",
    "symbols = ['a', 'b', 'c', 'd', 'e', 'f', 'g', 'h', 'i', 'j', 'k', 'l', 'm',\n",
    "           'n', 'o', 'p', 'q', 'r', 's', 't', 'u', 'v', 'w', 'x', 'y', 'z',\n",
    "           '_', '[UNK]']"
   ]
  },
  {
   "metadata": {},
   "cell_type": "code",
   "outputs": [],
   "execution_count": null,
   "source": [
    "# 定义原始token及其频率\n",
    "raw_token_freqs = {'fast_': 4, 'faster_': 3, 'tall_': 5, 'taller_': 4}\n",
    "token_freqs = {}\n",
    "# 把每个单词按字符分开，用空格连接（为BPE合并做准备）\n",
    "for token, freq in raw_token_freqs.items():\n",
    "    token_freqs[' '.join(list(token))] = raw_token_freqs[token]\n",
    "token_freqs"
   ],
   "id": "66a295fe7e2114a0"
  },
  {
   "metadata": {},
   "cell_type": "code",
   "outputs": [],
   "execution_count": null,
   "source": [
    "def get_max_freq_pair(token_freqs):\n",
    "    \"\"\"\n",
    "    统计所有token中出现频率最高的相邻符号对\n",
    "    \"\"\"\n",
    "    pairs = collections.defaultdict(int)\n",
    "    for token, freq in token_freqs.items():\n",
    "        symbols = token.split()\n",
    "        for i in range(len(symbols) - 1):\n",
    "            # 统计每个连续符号对出现的总频率\n",
    "            pairs[symbols[i], symbols[i + 1]] += freq\n",
    "    # 返回频率最高的符号对\n",
    "    return max(pairs, key=pairs.get)  # 具有最大值的“pairs”键"
   ],
   "id": "4aad2ed9b5d0f605"
  },
  {
   "metadata": {},
   "cell_type": "code",
   "outputs": [],
   "execution_count": null,
   "source": [
    "def merge_symbols(max_freq_pair, token_freqs, symbols):\n",
    "    \"\"\"\n",
    "    把频率最高的符号对合并成新符号，并更新所有token\n",
    "    \"\"\"\n",
    "    # 新增合并的符号\n",
    "    symbols.append(''.join(max_freq_pair))\n",
    "    new_token_freqs = dict()\n",
    "    for token, freq in token_freqs.items():\n",
    "        # 把token里的该符号对替换为合并后的新符号\n",
    "        new_token = token.replace(' '.join(max_freq_pair),\n",
    "                                  ''.join(max_freq_pair))\n",
    "        new_token_freqs[new_token] = token_freqs[token]\n",
    "    return new_token_freqs"
   ],
   "id": "f80dd403a9466da6"
  },
  {
   "metadata": {},
   "cell_type": "code",
   "outputs": [],
   "execution_count": null,
   "source": [
    "num_merges = 10 # 设置合并次数\n",
    "for i in range(num_merges):\n",
    "     # 找到最常见的符号对\n",
    "    max_freq_pair = get_max_freq_pair(token_freqs)\n",
    "     # 合并\n",
    "    token_freqs = merge_symbols(max_freq_pair, token_freqs, symbols)\n",
    "    print(f'合并# {i+1}:',max_freq_pair) # 打印每次合并的结果"
   ],
   "id": "53303784523b567"
  },
  {
   "metadata": {},
   "cell_type": "code",
   "outputs": [],
   "execution_count": null,
   "source": [
    "def segment_BPE(tokens, symbols):\n",
    "    \"\"\"\n",
    "    用BPE合并得到的符号表对新单词分词\n",
    "    \"\"\"\n",
    "    outputs = []\n",
    "    for token in tokens:\n",
    "        start, end = 0, len(token)\n",
    "        cur_output = []\n",
    "        # 尝试用符号表中最长的子串分割token\n",
    "        while start < len(token) and start < end:\n",
    "            if token[start: end] in symbols:\n",
    "                cur_output.append(token[start: end])\n",
    "                start = end\n",
    "                end = len(token)\n",
    "            else:\n",
    "                end -= 1\n",
    "        # 如果有部分无法匹配，标记为[UNK]\n",
    "        if start < len(token):\n",
    "            cur_output.append('[UNK]')\n",
    "        outputs.append(' '.join(cur_output))\n",
    "    return outputs"
   ],
   "id": "3ca19853754e925c"
  },
  {
   "metadata": {},
   "cell_type": "code",
   "outputs": [],
   "execution_count": null,
   "source": [
    "# 新词\n",
    "tokens = ['tallest_', 'fatter_']\n",
    "# 用BPE分词并输出结果\n",
    "print(segment_BPE(tokens, symbols))"
   ],
   "id": "9ad75d8a876c57f5"
  }
 ],
 "metadata": {
  "kernelspec": {
   "display_name": "Python 3",
   "language": "python",
   "name": "python3"
  },
  "language_info": {
   "codemirror_mode": {
    "name": "ipython",
    "version": 2
   },
   "file_extension": ".py",
   "mimetype": "text/x-python",
   "name": "python",
   "nbconvert_exporter": "python",
   "pygments_lexer": "ipython2",
   "version": "2.7.6"
  }
 },
 "nbformat": 4,
 "nbformat_minor": 5
}
