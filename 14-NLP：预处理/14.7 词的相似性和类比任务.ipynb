{
 "cells": [
  {
   "cell_type": "code",
   "id": "initial_id",
   "metadata": {
    "collapsed": true,
    "ExecuteTime": {
     "end_time": "2025-05-26T18:21:24.707876Z",
     "start_time": "2025-05-26T18:21:22.914050Z"
    }
   },
   "source": [
    "import os\n",
    "import torch\n",
    "from torch import nn\n",
    "from d2l import torch as d2l"
   ],
   "outputs": [],
   "execution_count": 1
  },
  {
   "metadata": {},
   "cell_type": "markdown",
   "source": "# 词的相似性和类比任务",
   "id": "2c988f8d77ce5d18"
  },
  {
   "metadata": {},
   "cell_type": "markdown",
   "source": "# 1. 加载预训练词向量",
   "id": "54bc2b48c7465a93"
  },
  {
   "metadata": {
    "ExecuteTime": {
     "end_time": "2025-05-26T18:21:44.545460Z",
     "start_time": "2025-05-26T18:21:44.540494Z"
    }
   },
   "cell_type": "code",
   "source": [
    "# 配置d2l的GloVe和wiki英文数据集地址和校验码\n",
    "d2l.DATA_HUB['glove.6b.50d'] = (d2l.DATA_URL + 'glove.6B.50d.zip',\n",
    "                                '0b8703943ccdb6eb788e6f091b8946e82231bc4d')\n",
    "\n",
    "d2l.DATA_HUB['glove.6b.100d'] = (d2l.DATA_URL + 'glove.6B.100d.zip',\n",
    "                                 'cd43bfb07e44e6f27cbcc7bc9ae3d80284fdaf5a')\n",
    "\n",
    "d2l.DATA_HUB['glove.42b.300d'] = (d2l.DATA_URL + 'glove.42B.300d.zip',\n",
    "                                  'b5116e234e9eb9076672cfeabf5469f3eec904fa')\n",
    "\n",
    "d2l.DATA_HUB['wiki.en'] = (d2l.DATA_URL + 'wiki.en.zip',\n",
    "                           'c1816da3821ae9f43899be655002f6c723e91b88')"
   ],
   "id": "abbead5efa372f63",
   "outputs": [],
   "execution_count": 2
  },
  {
   "metadata": {
    "ExecuteTime": {
     "end_time": "2025-05-26T18:21:51.407042Z",
     "start_time": "2025-05-26T18:21:51.402024Z"
    }
   },
   "cell_type": "code",
   "source": [
    "class TokenEmbedding:\n",
    "    \"\"\"GloVe嵌入类：负责加载和查询词向量\"\"\"\n",
    "    def __init__(self, embedding_name):\n",
    "        # 加载embedding，获取token和对应向量\n",
    "        self.idx_to_token, self.idx_to_vec = self._load_embedding(\n",
    "            embedding_name)\n",
    "        self.unknown_idx = 0 # 未知词的索引\n",
    "        # 建立token到索引的映射\n",
    "        self.token_to_idx = {token: idx for idx, token in\n",
    "                             enumerate(self.idx_to_token)}\n",
    "\n",
    "    # 读取词表和向量\n",
    "    def _load_embedding(self, embedding_name):\n",
    "        # 实际加载embedding的函数\n",
    "        idx_to_token, idx_to_vec = ['<unk>'], []\n",
    "        data_dir = d2l.download_extract(embedding_name)\n",
    "        # GloVe网站：https://nlp.stanford.edu/projects/glove/\n",
    "        # fastText网站：https://fasttext.cc/\n",
    "        # 读取vec.txt文件（GloVe的格式）\n",
    "        with open(os.path.join(data_dir, 'vec.txt'), 'r') as f:\n",
    "            for line in f:\n",
    "                elems = line.rstrip().split(' ')\n",
    "                token, elems = elems[0], [float(elem) for elem in elems[1:]]\n",
    "                # 跳过如fastText的首行（标题）等特殊行，只加入正常向量\n",
    "                if len(elems) > 1:\n",
    "                    idx_to_token.append(token)\n",
    "                    idx_to_vec.append(elems)\n",
    "        # unk向量为0\n",
    "        idx_to_vec = [[0] * len(idx_to_vec[0])] + idx_to_vec\n",
    "        return idx_to_token, torch.tensor(idx_to_vec)\n",
    "\n",
    "    def __getitem__(self, tokens):\n",
    "        # 支持通过token列表直接取向量\n",
    "        indices = [self.token_to_idx.get(token, self.unknown_idx)\n",
    "                   for token in tokens]\n",
    "        vecs = self.idx_to_vec[torch.tensor(indices)]\n",
    "        return vecs\n",
    "\n",
    "    def __len__(self):\n",
    "        return len(self.idx_to_token)"
   ],
   "id": "9c5e273e7c60c5ae",
   "outputs": [],
   "execution_count": 3
  },
  {
   "metadata": {
    "ExecuteTime": {
     "end_time": "2025-05-26T18:22:06.606876Z",
     "start_time": "2025-05-26T18:21:57.848053Z"
    }
   },
   "cell_type": "code",
   "source": [
    "# 加载glove.6b.50d词向量\n",
    "glove_6b50d = TokenEmbedding('glove.6b.50d')"
   ],
   "id": "e6be9ec8314ba44a",
   "outputs": [
    {
     "name": "stdout",
     "output_type": "stream",
     "text": [
      "Downloading ../data/glove.6B.50d.zip from http://d2l-data.s3-accelerate.amazonaws.com/glove.6B.50d.zip...\n"
     ]
    }
   ],
   "execution_count": 4
  },
  {
   "metadata": {
    "ExecuteTime": {
     "end_time": "2025-05-26T18:22:08.452643Z",
     "start_time": "2025-05-26T18:22:08.447750Z"
    }
   },
   "cell_type": "code",
   "source": [
    "# 词表大小\n",
    "len(glove_6b50d)"
   ],
   "id": "e15bbc71ead85995",
   "outputs": [
    {
     "data": {
      "text/plain": [
       "400001"
      ]
     },
     "execution_count": 5,
     "metadata": {},
     "output_type": "execute_result"
    }
   ],
   "execution_count": 5
  },
  {
   "metadata": {
    "ExecuteTime": {
     "end_time": "2025-05-26T18:22:14.568154Z",
     "start_time": "2025-05-26T18:22:14.565231Z"
    }
   },
   "cell_type": "code",
   "source": [
    "# 查词下标和词\n",
    "glove_6b50d.token_to_idx['beautiful'], glove_6b50d.idx_to_token[3367]"
   ],
   "id": "2b0ddc7f5fa813fc",
   "outputs": [
    {
     "data": {
      "text/plain": [
       "(3367, 'beautiful')"
      ]
     },
     "execution_count": 6,
     "metadata": {},
     "output_type": "execute_result"
    }
   ],
   "execution_count": 6
  },
  {
   "metadata": {},
   "cell_type": "markdown",
   "source": [
    "# 2. 应用预训练词向量\n",
    "\n",
    "## 2.1. 词相似度"
   ],
   "id": "809648115285a7be"
  },
  {
   "metadata": {
    "ExecuteTime": {
     "end_time": "2025-05-26T18:22:42.637051Z",
     "start_time": "2025-05-26T18:22:42.628161Z"
    }
   },
   "cell_type": "code",
   "source": [
    "# 计算向量x与矩阵W所有行的余弦相似度，返回前k个最大值下标和分数\n",
    "def knn(W, x, k):\n",
    "    # 增加1e-9以获得数值稳定性\n",
    "    cos = torch.mv(W, x.reshape(-1,)) / (\n",
    "        torch.sqrt(torch.sum(W * W, axis=1) + 1e-9) *\n",
    "        torch.sqrt((x * x).sum()))\n",
    "    _, topk = torch.topk(cos, k=k)\n",
    "    return topk, [cos[int(i)] for i in topk]"
   ],
   "id": "7be2f11605f92f65",
   "outputs": [],
   "execution_count": 7
  },
  {
   "metadata": {
    "ExecuteTime": {
     "end_time": "2025-05-26T18:22:48.017510Z",
     "start_time": "2025-05-26T18:22:48.014292Z"
    }
   },
   "cell_type": "code",
   "source": [
    "def get_similar_tokens(query_token, k, embed):\n",
    "    # 输出与query_token最相似的前k个词（除自身外)\n",
    "    topk, cos = knn(embed.idx_to_vec, embed[[query_token]], k + 1)\n",
    "    for i, c in zip(topk[1:], cos[1:]):  # 排除输入词，跳过自身\n",
    "        print(f'{embed.idx_to_token[int(i)]}：cosine相似度={float(c):.3f}')"
   ],
   "id": "408b769d3bee8b1e",
   "outputs": [],
   "execution_count": 8
  },
  {
   "metadata": {
    "ExecuteTime": {
     "end_time": "2025-05-26T18:22:55.254272Z",
     "start_time": "2025-05-26T18:22:55.212628Z"
    }
   },
   "cell_type": "code",
   "source": [
    "# 示例：找chip最相似的3个词\n",
    "get_similar_tokens('chip', 3, glove_6b50d)"
   ],
   "id": "5e2b70c518b4b331",
   "outputs": [
    {
     "name": "stdout",
     "output_type": "stream",
     "text": [
      "chips：cosine相似度=0.856\n",
      "intel：cosine相似度=0.749\n",
      "electronics：cosine相似度=0.749\n"
     ]
    }
   ],
   "execution_count": 9
  },
  {
   "metadata": {
    "ExecuteTime": {
     "end_time": "2025-05-26T18:23:03.611648Z",
     "start_time": "2025-05-26T18:23:03.589954Z"
    }
   },
   "cell_type": "code",
   "source": "get_similar_tokens('baby', 3, glove_6b50d)",
   "id": "455be26fec6a0365",
   "outputs": [
    {
     "name": "stdout",
     "output_type": "stream",
     "text": [
      "babies：cosine相似度=0.839\n",
      "boy：cosine相似度=0.800\n",
      "girl：cosine相似度=0.792\n"
     ]
    }
   ],
   "execution_count": 10
  },
  {
   "metadata": {
    "ExecuteTime": {
     "end_time": "2025-05-26T18:23:25.487171Z",
     "start_time": "2025-05-26T18:23:25.450301Z"
    }
   },
   "cell_type": "code",
   "source": "get_similar_tokens('beautiful', 3, glove_6b50d)",
   "id": "63cfdd8e0ba45284",
   "outputs": [
    {
     "name": "stdout",
     "output_type": "stream",
     "text": [
      "lovely：cosine相似度=0.921\n",
      "gorgeous：cosine相似度=0.893\n",
      "wonderful：cosine相似度=0.830\n"
     ]
    }
   ],
   "execution_count": 11
  },
  {
   "metadata": {},
   "cell_type": "markdown",
   "source": "## 2.2. 词类比",
   "id": "f5fcecfee88ad515"
  },
  {
   "metadata": {
    "ExecuteTime": {
     "end_time": "2025-05-26T18:23:41.382028Z",
     "start_time": "2025-05-26T18:23:41.376254Z"
    }
   },
   "cell_type": "code",
   "source": [
    "# 类比推理：token_a : token_b = token_c : ?\n",
    "def get_analogy(token_a, token_b, token_c, embed):\n",
    "    vecs = embed[[token_a, token_b, token_c]]\n",
    "    # b - a + c\n",
    "    x = vecs[1] - vecs[0] + vecs[2]\n",
    "    topk, cos = knn(embed.idx_to_vec, x, 1)\n",
    "    # 返回最相近的词\n",
    "    return embed.idx_to_token[int(topk[0])]"
   ],
   "id": "b96131759949a95b",
   "outputs": [],
   "execution_count": 12
  },
  {
   "metadata": {
    "ExecuteTime": {
     "end_time": "2025-05-26T18:23:47.800739Z",
     "start_time": "2025-05-26T18:23:47.751826Z"
    }
   },
   "cell_type": "code",
   "source": [
    "# 词类比：man : woman = son : ?\n",
    "get_analogy('man', 'woman', 'son', glove_6b50d)"
   ],
   "id": "a9adc3f3e704215b",
   "outputs": [
    {
     "data": {
      "text/plain": [
       "'daughter'"
      ]
     },
     "execution_count": 13,
     "metadata": {},
     "output_type": "execute_result"
    }
   ],
   "execution_count": 13
  },
  {
   "metadata": {
    "ExecuteTime": {
     "end_time": "2025-05-26T18:23:54.714626Z",
     "start_time": "2025-05-26T18:23:54.693716Z"
    }
   },
   "cell_type": "code",
   "source": [
    "# 类比：中国-北京-日本-？\n",
    "get_analogy('beijing', 'china', 'tokyo', glove_6b50d)"
   ],
   "id": "4d50653f3fca079d",
   "outputs": [
    {
     "data": {
      "text/plain": [
       "'japan'"
      ]
     },
     "execution_count": 14,
     "metadata": {},
     "output_type": "execute_result"
    }
   ],
   "execution_count": 14
  },
  {
   "metadata": {
    "ExecuteTime": {
     "end_time": "2025-05-26T18:23:59.760335Z",
     "start_time": "2025-05-26T18:23:59.719325Z"
    }
   },
   "cell_type": "code",
   "source": [
    "# 类比：bad - worst + big = ?\n",
    "get_analogy('bad', 'worst', 'big', glove_6b50d)"
   ],
   "id": "4d66825fff0ad792",
   "outputs": [
    {
     "data": {
      "text/plain": [
       "'biggest'"
      ]
     },
     "execution_count": 15,
     "metadata": {},
     "output_type": "execute_result"
    }
   ],
   "execution_count": 15
  },
  {
   "metadata": {
    "ExecuteTime": {
     "end_time": "2025-05-26T18:24:05.017006Z",
     "start_time": "2025-05-26T18:24:04.991341Z"
    }
   },
   "cell_type": "code",
   "source": [
    "# 类比：do - did + go = ?\n",
    "get_analogy('do', 'did', 'go', glove_6b50d)"
   ],
   "id": "ad183e3e908401be",
   "outputs": [
    {
     "data": {
      "text/plain": [
       "'went'"
      ]
     },
     "execution_count": 16,
     "metadata": {},
     "output_type": "execute_result"
    }
   ],
   "execution_count": 16
  },
  {
   "metadata": {},
   "cell_type": "code",
   "outputs": [],
   "execution_count": null,
   "source": "",
   "id": "5b4a9e55304ef764"
  }
 ],
 "metadata": {
  "kernelspec": {
   "display_name": "Python 3",
   "language": "python",
   "name": "python3"
  },
  "language_info": {
   "codemirror_mode": {
    "name": "ipython",
    "version": 2
   },
   "file_extension": ".py",
   "mimetype": "text/x-python",
   "name": "python",
   "nbconvert_exporter": "python",
   "pygments_lexer": "ipython2",
   "version": "2.7.6"
  }
 },
 "nbformat": 4,
 "nbformat_minor": 5
}
