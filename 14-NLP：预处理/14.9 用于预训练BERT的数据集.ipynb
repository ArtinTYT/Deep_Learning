{
 "cells": [
  {
   "cell_type": "code",
   "id": "initial_id",
   "metadata": {
    "collapsed": true,
    "ExecuteTime": {
     "end_time": "2025-05-26T18:34:05.782427Z",
     "start_time": "2025-05-26T18:34:05.778393Z"
    }
   },
   "source": [
    "import os\n",
    "import random\n",
    "import torch\n",
    "from d2l import torch as d2l"
   ],
   "outputs": [],
   "execution_count": 12
  },
  {
   "metadata": {},
   "cell_type": "markdown",
   "source": [
    "# 用于预训练bert的数据集\n",
    "\n",
    "1. 先读取WikiText文本、分句，得到段落列表。\n",
    "2. 对每对句子，采样“下一句预测”正负例，并加BERT的特殊符号。\n",
    "3. 随机mask部分token，构造MLM样本。\n",
    "4. 所有输入统一pad到定长。\n",
    "5. 打包成PyTorch Dataset，支持dataloader批量加载。\n",
    "6. 最终返回能直接用于BERT预训练的数据流和词表。\n",
    "\n",
    "## 1. 下载并读取 WikiText-2 语料"
   ],
   "id": "ee76f7781cfcf70b"
  },
  {
   "metadata": {
    "ExecuteTime": {
     "end_time": "2025-05-26T18:34:05.798340Z",
     "start_time": "2025-05-26T18:34:05.794485Z"
    }
   },
   "cell_type": "code",
   "source": [
    "# 注册WikiText-2数据集的下载信息（URL与校验码）\n",
    "d2l.DATA_HUB['wikitext-2'] = (\n",
    "    'https://s3.amazonaws.com/research.metamind.io/wikitext/'\n",
    "    'wikitext-2-v1.zip', '3c914d17d80b1459be871a5039ac23e752a53cbe')\n",
    "\n",
    "def _read_wiki(data_dir):\n",
    "    file_name = os.path.join(data_dir, 'wiki.train.tokens')  # 拼接出训练集路径\n",
    "    with open(file_name, 'r') as f:\n",
    "        lines = f.readlines()\n",
    "    # 每行按'.'切分成句子片段，再统一转成小写\n",
    "    paragraphs = [line.strip().lower().split(' . ')\n",
    "                  for line in lines if len(line.split(' . ')) >= 2]\n",
    "    random.shuffle(paragraphs)  # 打乱段落顺序，增强训练多样性\n",
    "    return paragraphs"
   ],
   "id": "176ca23789c4c2df",
   "outputs": [],
   "execution_count": 13
  },
  {
   "metadata": {},
   "cell_type": "markdown",
   "source": [
    "## 2 生成下一句预测任务的数据\n",
    "### Step 1：采样一对句子，决定它们是不是前后连续"
   ],
   "id": "90f7b88ff572196"
  },
  {
   "metadata": {
    "ExecuteTime": {
     "end_time": "2025-05-26T18:34:05.808066Z",
     "start_time": "2025-05-26T18:34:05.805326Z"
    }
   },
   "cell_type": "code",
   "source": [
    "def _get_next_sentence(sentence, next_sentence, paragraphs):\n",
    "    if random.random() < 0.5:         # 50%的概率，保持原有句子顺序（正例）\n",
    "        is_next = True\n",
    "    else:                             # 另外50%的概率，随机选一条不是下一个的句子（负例）\n",
    "        # paragraphs是嵌套的三层列表，random.choice嵌套随机抽一个句子\n",
    "        next_sentence = random.choice(random.choice(paragraphs))\n",
    "        is_next = False\n",
    "    return sentence, next_sentence, is_next\n"
   ],
   "id": "6afb178a331b4849",
   "outputs": [],
   "execution_count": 14
  },
  {
   "metadata": {},
   "cell_type": "markdown",
   "source": "### Step 2：用上面的采样逻辑，把一个段落里的每一对相邻句子都处理一下",
   "id": "bae5e184e369db78"
  },
  {
   "metadata": {
    "ExecuteTime": {
     "end_time": "2025-05-26T18:34:05.816338Z",
     "start_time": "2025-05-26T18:34:05.813606Z"
    }
   },
   "cell_type": "code",
   "source": [
    "def _get_nsp_data_from_paragraph(paragraph, paragraphs, vocab, max_len):\n",
    "    nsp_data_from_paragraph = []\n",
    "    for i in range(len(paragraph) - 1):\n",
    "        tokens_a, tokens_b, is_next = _get_next_sentence(\n",
    "            paragraph[i], paragraph[i + 1], paragraphs)\n",
    "        # 这里tokens_a, tokens_b都是字符串（后续还会被切分成词）\n",
    "        # 句子加上BERT特殊符号后不能超过最大长度max_len，否则跳过\n",
    "        if len(tokens_a) + len(tokens_b) + 3 > max_len:\n",
    "            continue\n",
    "        # d2l.get_tokens_and_segments会加<cls>、<sep>并返回片段编码\n",
    "        tokens, segments = d2l.get_tokens_and_segments(tokens_a, tokens_b)\n",
    "        nsp_data_from_paragraph.append((tokens, segments, is_next))\n",
    "    return nsp_data_from_paragraph\n"
   ],
   "id": "d487d05a86b427ee",
   "outputs": [],
   "execution_count": 15
  },
  {
   "metadata": {},
   "cell_type": "markdown",
   "source": [
    "\n",
    "## 3. 生成遮蔽语言模型（MLM）任务的数据\n",
    "### Step 1：根据BERT策略随机选择并替换词"
   ],
   "id": "1e50ab5ed0eb3160"
  },
  {
   "metadata": {
    "ExecuteTime": {
     "end_time": "2025-05-26T18:34:05.824914Z",
     "start_time": "2025-05-26T18:34:05.821705Z"
    }
   },
   "cell_type": "code",
   "source": [
    "def _replace_mlm_tokens(tokens, candidate_pred_positions, num_mlm_preds, vocab):\n",
    "    mlm_input_tokens = [token for token in tokens]     # 复制一份token\n",
    "    pred_positions_and_labels = []\n",
    "    random.shuffle(candidate_pred_positions)           # 打乱可mask的位置\n",
    "    for mlm_pred_position in candidate_pred_positions:\n",
    "        if len(pred_positions_and_labels) >= num_mlm_preds:\n",
    "            break\n",
    "        masked_token = None\n",
    "        if random.random() < 0.8:                      # 80%概率替换成<mask>\n",
    "            masked_token = '<mask>'\n",
    "        else:\n",
    "            if random.random() < 0.5:                  # 10%保持原token\n",
    "                masked_token = tokens[mlm_pred_position]\n",
    "            else:                                      # 10%替换成随机词\n",
    "                masked_token = random.choice(vocab.idx_to_token)\n",
    "        mlm_input_tokens[mlm_pred_position] = masked_token\n",
    "        pred_positions_and_labels.append(\n",
    "            (mlm_pred_position, tokens[mlm_pred_position]))\n",
    "    return mlm_input_tokens, pred_positions_and_labels\n"
   ],
   "id": "a9a9d95c7ccec771",
   "outputs": [],
   "execution_count": 16
  },
  {
   "metadata": {},
   "cell_type": "markdown",
   "source": "### Step 2：对输入token序列生成MLM任务训练所需信息",
   "id": "ecbf18b3366712e7"
  },
  {
   "metadata": {
    "ExecuteTime": {
     "end_time": "2025-05-26T18:34:05.832015Z",
     "start_time": "2025-05-26T18:34:05.829164Z"
    }
   },
   "cell_type": "code",
   "source": [
    "def _get_mlm_data_from_tokens(tokens, vocab):\n",
    "    candidate_pred_positions = []\n",
    "    for i, token in enumerate(tokens):\n",
    "        if token in ['<cls>', '<sep>']:        # 特殊符号不能被mask\n",
    "            continue\n",
    "        candidate_pred_positions.append(i)\n",
    "    num_mlm_preds = max(1, round(len(tokens) * 0.15))   # 取15%的token用于mask\n",
    "    mlm_input_tokens, pred_positions_and_labels = _replace_mlm_tokens(\n",
    "        tokens, candidate_pred_positions, num_mlm_preds, vocab)\n",
    "    pred_positions_and_labels = sorted(pred_positions_and_labels, key=lambda x: x[0])\n",
    "    pred_positions = [v[0] for v in pred_positions_and_labels]    # 被mask的位置\n",
    "    mlm_pred_labels = [v[1] for v in pred_positions_and_labels]   # 被mask的原词\n",
    "    return vocab[mlm_input_tokens], pred_positions, vocab[mlm_pred_labels]\n"
   ],
   "id": "da172984b32942ca",
   "outputs": [],
   "execution_count": 17
  },
  {
   "metadata": {},
   "cell_type": "markdown",
   "source": [
    "## 4. 文本转为BERT预训练数据的完整流程\n",
    "### Step 3：所有任务输出补齐为统一长度（padding）"
   ],
   "id": "71605fde171fc3df"
  },
  {
   "metadata": {
    "ExecuteTime": {
     "end_time": "2025-05-26T18:34:05.840219Z",
     "start_time": "2025-05-26T18:34:05.836390Z"
    }
   },
   "cell_type": "code",
   "source": [
    "def _pad_bert_inputs(examples, max_len, vocab):\n",
    "    max_num_mlm_preds = round(max_len * 0.15)\n",
    "    all_token_ids, all_segments, valid_lens = [], [], []\n",
    "    all_pred_positions, all_mlm_weights, all_mlm_labels = [], [], []\n",
    "    nsp_labels = []\n",
    "    for (token_ids, pred_positions, mlm_pred_label_ids, segments, is_next) in examples:\n",
    "        # tokens与segments都要补齐max_len\n",
    "        all_token_ids.append(torch.tensor(token_ids + [vocab['<pad>']] * (max_len - len(token_ids)), dtype=torch.long))\n",
    "        all_segments.append(torch.tensor(segments + [0] * (max_len - len(segments)), dtype=torch.long))\n",
    "        valid_lens.append(torch.tensor(len(token_ids), dtype=torch.float32))\n",
    "        all_pred_positions.append(torch.tensor(pred_positions + [0] * (max_num_mlm_preds - len(pred_positions)), dtype=torch.long))\n",
    "        # 预测位置不够就补零，mlm权重用来屏蔽填充损失\n",
    "        all_mlm_weights.append(torch.tensor([1.0] * len(mlm_pred_label_ids) + [0.0] * (max_num_mlm_preds - len(pred_positions)), dtype=torch.float32))\n",
    "        all_mlm_labels.append(torch.tensor(mlm_pred_label_ids + [0] * (max_num_mlm_preds - len(mlm_pred_label_ids)), dtype=torch.long))\n",
    "        nsp_labels.append(torch.tensor(is_next, dtype=torch.long))\n",
    "    return (all_token_ids, all_segments, valid_lens, all_pred_positions,\n",
    "            all_mlm_weights, all_mlm_labels, nsp_labels)\n"
   ],
   "id": "955ffc55cd74e3f",
   "outputs": [],
   "execution_count": 18
  },
  {
   "metadata": {},
   "cell_type": "markdown",
   "source": "### Step 4：自定义PyTorch数据集",
   "id": "ddb5ce13340030f3"
  },
  {
   "metadata": {
    "ExecuteTime": {
     "end_time": "2025-05-26T18:34:05.847932Z",
     "start_time": "2025-05-26T18:34:05.844397Z"
    }
   },
   "cell_type": "code",
   "source": [
    "class _WikiTextDataset(torch.utils.data.Dataset):\n",
    "    def __init__(self, paragraphs, max_len):\n",
    "        # 对每段落，按词分词\n",
    "        paragraphs = [d2l.tokenize(paragraph, token='word') for paragraph in paragraphs]\n",
    "        sentences = [sentence for paragraph in paragraphs for sentence in paragraph]\n",
    "        # 构建词表，过滤低频词\n",
    "        self.vocab = d2l.Vocab(sentences, min_freq=5, reserved_tokens=['<pad>', '<mask>', '<cls>', '<sep>'])\n",
    "        # 生成NSP数据（每个样本：tokens, segments, is_next标签）\n",
    "        examples = []\n",
    "        for paragraph in paragraphs:\n",
    "            examples.extend(_get_nsp_data_from_paragraph(paragraph, paragraphs, self.vocab, max_len))\n",
    "        # 生成MLM数据（每个样本：mask过的tokens、mask位置、mask原词……）\n",
    "        examples = [(_get_mlm_data_from_tokens(tokens, self.vocab) + (segments, is_next)) for tokens, segments, is_next in examples]\n",
    "        # 对所有样本做pad，得到统一长度\n",
    "        (self.all_token_ids, self.all_segments, self.valid_lens,\n",
    "         self.all_pred_positions, self.all_mlm_weights,\n",
    "         self.all_mlm_labels, self.nsp_labels) = _pad_bert_inputs(\n",
    "            examples, max_len, self.vocab)\n",
    "\n",
    "    def __getitem__(self, idx):\n",
    "        return (self.all_token_ids[idx], self.all_segments[idx], self.valid_lens[idx],\n",
    "                self.all_pred_positions[idx], self.all_mlm_weights[idx],\n",
    "                self.all_mlm_labels[idx], self.nsp_labels[idx])\n",
    "\n",
    "    def __len__(self):\n",
    "        return len(self.all_token_ids)\n"
   ],
   "id": "ad2c41e4913ad6cc",
   "outputs": [],
   "execution_count": 19
  },
  {
   "metadata": {},
   "cell_type": "markdown",
   "source": "### Step 5：数据加载函数",
   "id": "588748c7c8e65f7e"
  },
  {
   "metadata": {
    "ExecuteTime": {
     "end_time": "2025-05-26T18:34:05.853995Z",
     "start_time": "2025-05-26T18:34:05.852084Z"
    }
   },
   "cell_type": "code",
   "source": [
    "def load_data_wiki(batch_size, max_len):\n",
    "    \"\"\"加载WikiText-2数据集并转为DataLoader格式\"\"\"\n",
    "    num_workers = d2l.get_dataloader_workers()\n",
    "    data_dir = d2l.download_extract('wikitext-2', 'wikitext-2')\n",
    "    paragraphs = _read_wiki(data_dir)\n",
    "    train_set = _WikiTextDataset(paragraphs, max_len)\n",
    "    train_iter = torch.utils.data.DataLoader(\n",
    "        train_set, batch_size, shuffle=True, num_workers=num_workers)\n",
    "    return train_iter, train_set.vocab"
   ],
   "id": "b76bdfc6384b61f6",
   "outputs": [],
   "execution_count": 20
  },
  {
   "metadata": {},
   "cell_type": "markdown",
   "source": "### Step 6：简单测试数据输出",
   "id": "a61e79b5cabb1d38"
  },
  {
   "metadata": {
    "ExecuteTime": {
     "end_time": "2025-05-26T18:34:06.787079Z",
     "start_time": "2025-05-26T18:34:05.858184Z"
    }
   },
   "cell_type": "code",
   "source": [
    "batch_size, max_len = 512, 64\n",
    "train_iter, vocab = load_data_wiki(batch_size, max_len)\n",
    "\n",
    "for (tokens_X, segments_X, valid_lens_x, pred_positions_X, mlm_weights_X,\n",
    "     mlm_Y, nsp_y) in train_iter:\n",
    "    print(tokens_X.shape, segments_X.shape, valid_lens_x.shape,\n",
    "          pred_positions_X.shape, mlm_weights_X.shape, mlm_Y.shape,\n",
    "          nsp_y.shape)\n",
    "    break"
   ],
   "id": "168a1fcbd765853c",
   "outputs": [
    {
     "name": "stdout",
     "output_type": "stream",
     "text": [
      "Downloading ../data/wikitext-2-v1.zip from https://s3.amazonaws.com/research.metamind.io/wikitext/wikitext-2-v1.zip...\n"
     ]
    },
    {
     "ename": "BadZipFile",
     "evalue": "File is not a zip file",
     "output_type": "error",
     "traceback": [
      "\u001B[0;31m---------------------------------------------------------------------------\u001B[0m",
      "\u001B[0;31mBadZipFile\u001B[0m                                Traceback (most recent call last)",
      "Cell \u001B[0;32mIn[21], line 2\u001B[0m\n\u001B[1;32m      1\u001B[0m batch_size, max_len \u001B[38;5;241m=\u001B[39m \u001B[38;5;241m512\u001B[39m, \u001B[38;5;241m64\u001B[39m\n\u001B[0;32m----> 2\u001B[0m train_iter, vocab \u001B[38;5;241m=\u001B[39m \u001B[43mload_data_wiki\u001B[49m\u001B[43m(\u001B[49m\u001B[43mbatch_size\u001B[49m\u001B[43m,\u001B[49m\u001B[43m \u001B[49m\u001B[43mmax_len\u001B[49m\u001B[43m)\u001B[49m\n\u001B[1;32m      4\u001B[0m \u001B[38;5;28;01mfor\u001B[39;00m (tokens_X, segments_X, valid_lens_x, pred_positions_X, mlm_weights_X,\n\u001B[1;32m      5\u001B[0m      mlm_Y, nsp_y) \u001B[38;5;129;01min\u001B[39;00m train_iter:\n\u001B[1;32m      6\u001B[0m     \u001B[38;5;28mprint\u001B[39m(tokens_X\u001B[38;5;241m.\u001B[39mshape, segments_X\u001B[38;5;241m.\u001B[39mshape, valid_lens_x\u001B[38;5;241m.\u001B[39mshape,\n\u001B[1;32m      7\u001B[0m           pred_positions_X\u001B[38;5;241m.\u001B[39mshape, mlm_weights_X\u001B[38;5;241m.\u001B[39mshape, mlm_Y\u001B[38;5;241m.\u001B[39mshape,\n\u001B[1;32m      8\u001B[0m           nsp_y\u001B[38;5;241m.\u001B[39mshape)\n",
      "Cell \u001B[0;32mIn[20], line 5\u001B[0m, in \u001B[0;36mload_data_wiki\u001B[0;34m(batch_size, max_len)\u001B[0m\n\u001B[1;32m      3\u001B[0m \u001B[38;5;250m\u001B[39m\u001B[38;5;124;03m\"\"\"加载WikiText-2数据集\"\"\"\u001B[39;00m\n\u001B[1;32m      4\u001B[0m num_workers \u001B[38;5;241m=\u001B[39m d2l\u001B[38;5;241m.\u001B[39mget_dataloader_workers()\n\u001B[0;32m----> 5\u001B[0m data_dir \u001B[38;5;241m=\u001B[39m \u001B[43md2l\u001B[49m\u001B[38;5;241;43m.\u001B[39;49m\u001B[43mdownload_extract\u001B[49m\u001B[43m(\u001B[49m\u001B[38;5;124;43m'\u001B[39;49m\u001B[38;5;124;43mwikitext-2\u001B[39;49m\u001B[38;5;124;43m'\u001B[39;49m\u001B[43m,\u001B[49m\u001B[43m \u001B[49m\u001B[38;5;124;43m'\u001B[39;49m\u001B[38;5;124;43mwikitext-2\u001B[39;49m\u001B[38;5;124;43m'\u001B[39;49m\u001B[43m)\u001B[49m\n\u001B[1;32m      6\u001B[0m paragraphs \u001B[38;5;241m=\u001B[39m _read_wiki(data_dir)\n\u001B[1;32m      7\u001B[0m train_set \u001B[38;5;241m=\u001B[39m _WikiTextDataset(paragraphs, max_len)\n",
      "File \u001B[0;32m/opt/miniconda3/envs/d2l-py38/lib/python3.8/site-packages/d2l/torch.py:403\u001B[0m, in \u001B[0;36mdownload_extract\u001B[0;34m(name, folder)\u001B[0m\n\u001B[1;32m    401\u001B[0m data_dir, ext \u001B[38;5;241m=\u001B[39m os\u001B[38;5;241m.\u001B[39mpath\u001B[38;5;241m.\u001B[39msplitext(fname)\n\u001B[1;32m    402\u001B[0m \u001B[38;5;28;01mif\u001B[39;00m ext \u001B[38;5;241m==\u001B[39m \u001B[38;5;124m'\u001B[39m\u001B[38;5;124m.zip\u001B[39m\u001B[38;5;124m'\u001B[39m:\n\u001B[0;32m--> 403\u001B[0m     fp \u001B[38;5;241m=\u001B[39m \u001B[43mzipfile\u001B[49m\u001B[38;5;241;43m.\u001B[39;49m\u001B[43mZipFile\u001B[49m\u001B[43m(\u001B[49m\u001B[43mfname\u001B[49m\u001B[43m,\u001B[49m\u001B[43m \u001B[49m\u001B[38;5;124;43m'\u001B[39;49m\u001B[38;5;124;43mr\u001B[39;49m\u001B[38;5;124;43m'\u001B[39;49m\u001B[43m)\u001B[49m\n\u001B[1;32m    404\u001B[0m \u001B[38;5;28;01melif\u001B[39;00m ext \u001B[38;5;129;01min\u001B[39;00m (\u001B[38;5;124m'\u001B[39m\u001B[38;5;124m.tar\u001B[39m\u001B[38;5;124m'\u001B[39m, \u001B[38;5;124m'\u001B[39m\u001B[38;5;124m.gz\u001B[39m\u001B[38;5;124m'\u001B[39m):\n\u001B[1;32m    405\u001B[0m     fp \u001B[38;5;241m=\u001B[39m tarfile\u001B[38;5;241m.\u001B[39mopen(fname, \u001B[38;5;124m'\u001B[39m\u001B[38;5;124mr\u001B[39m\u001B[38;5;124m'\u001B[39m)\n",
      "File \u001B[0;32m/opt/miniconda3/envs/d2l-py38/lib/python3.8/zipfile.py:1271\u001B[0m, in \u001B[0;36mZipFile.__init__\u001B[0;34m(self, file, mode, compression, allowZip64, compresslevel, strict_timestamps)\u001B[0m\n\u001B[1;32m   1269\u001B[0m \u001B[38;5;28;01mtry\u001B[39;00m:\n\u001B[1;32m   1270\u001B[0m     \u001B[38;5;28;01mif\u001B[39;00m mode \u001B[38;5;241m==\u001B[39m \u001B[38;5;124m'\u001B[39m\u001B[38;5;124mr\u001B[39m\u001B[38;5;124m'\u001B[39m:\n\u001B[0;32m-> 1271\u001B[0m         \u001B[38;5;28;43mself\u001B[39;49m\u001B[38;5;241;43m.\u001B[39;49m\u001B[43m_RealGetContents\u001B[49m\u001B[43m(\u001B[49m\u001B[43m)\u001B[49m\n\u001B[1;32m   1272\u001B[0m     \u001B[38;5;28;01melif\u001B[39;00m mode \u001B[38;5;129;01min\u001B[39;00m (\u001B[38;5;124m'\u001B[39m\u001B[38;5;124mw\u001B[39m\u001B[38;5;124m'\u001B[39m, \u001B[38;5;124m'\u001B[39m\u001B[38;5;124mx\u001B[39m\u001B[38;5;124m'\u001B[39m):\n\u001B[1;32m   1273\u001B[0m         \u001B[38;5;66;03m# set the modified flag so central directory gets written\u001B[39;00m\n\u001B[1;32m   1274\u001B[0m         \u001B[38;5;66;03m# even if no files are added to the archive\u001B[39;00m\n\u001B[1;32m   1275\u001B[0m         \u001B[38;5;28mself\u001B[39m\u001B[38;5;241m.\u001B[39m_didModify \u001B[38;5;241m=\u001B[39m \u001B[38;5;28;01mTrue\u001B[39;00m\n",
      "File \u001B[0;32m/opt/miniconda3/envs/d2l-py38/lib/python3.8/zipfile.py:1338\u001B[0m, in \u001B[0;36mZipFile._RealGetContents\u001B[0;34m(self)\u001B[0m\n\u001B[1;32m   1336\u001B[0m     \u001B[38;5;28;01mraise\u001B[39;00m BadZipFile(\u001B[38;5;124m\"\u001B[39m\u001B[38;5;124mFile is not a zip file\u001B[39m\u001B[38;5;124m\"\u001B[39m)\n\u001B[1;32m   1337\u001B[0m \u001B[38;5;28;01mif\u001B[39;00m \u001B[38;5;129;01mnot\u001B[39;00m endrec:\n\u001B[0;32m-> 1338\u001B[0m     \u001B[38;5;28;01mraise\u001B[39;00m BadZipFile(\u001B[38;5;124m\"\u001B[39m\u001B[38;5;124mFile is not a zip file\u001B[39m\u001B[38;5;124m\"\u001B[39m)\n\u001B[1;32m   1339\u001B[0m \u001B[38;5;28;01mif\u001B[39;00m \u001B[38;5;28mself\u001B[39m\u001B[38;5;241m.\u001B[39mdebug \u001B[38;5;241m>\u001B[39m \u001B[38;5;241m1\u001B[39m:\n\u001B[1;32m   1340\u001B[0m     \u001B[38;5;28mprint\u001B[39m(endrec)\n",
      "\u001B[0;31mBadZipFile\u001B[0m: File is not a zip file"
     ]
    }
   ],
   "execution_count": 21
  },
  {
   "metadata": {
    "ExecuteTime": {
     "end_time": "2025-05-26T18:34:06.795609Z",
     "start_time": "2025-05-26T18:33:54.431569Z"
    }
   },
   "cell_type": "code",
   "source": "len(vocab)",
   "id": "7bb66cef6136b025",
   "outputs": [
    {
     "ename": "NameError",
     "evalue": "name 'vocab' is not defined",
     "output_type": "error",
     "traceback": [
      "\u001B[0;31m---------------------------------------------------------------------------\u001B[0m",
      "\u001B[0;31mNameError\u001B[0m                                 Traceback (most recent call last)",
      "Cell \u001B[0;32mIn[11], line 1\u001B[0m\n\u001B[0;32m----> 1\u001B[0m \u001B[38;5;28mlen\u001B[39m(\u001B[43mvocab\u001B[49m)\n",
      "\u001B[0;31mNameError\u001B[0m: name 'vocab' is not defined"
     ]
    }
   ],
   "execution_count": 11
  },
  {
   "metadata": {},
   "cell_type": "code",
   "outputs": [],
   "execution_count": null,
   "source": "",
   "id": "c3d88513accf593b"
  }
 ],
 "metadata": {
  "kernelspec": {
   "display_name": "Python 3",
   "language": "python",
   "name": "python3"
  },
  "language_info": {
   "codemirror_mode": {
    "name": "ipython",
    "version": 2
   },
   "file_extension": ".py",
   "mimetype": "text/x-python",
   "name": "python",
   "nbconvert_exporter": "python",
   "pygments_lexer": "ipython2",
   "version": "2.7.6"
  }
 },
 "nbformat": 4,
 "nbformat_minor": 5
}
