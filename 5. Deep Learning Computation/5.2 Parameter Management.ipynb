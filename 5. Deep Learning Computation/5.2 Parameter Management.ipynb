{
 "cells": [
  {
   "cell_type": "code",
   "id": "initial_id",
   "metadata": {
    "collapsed": true,
    "ExecuteTime": {
     "end_time": "2025-04-23T08:30:20.177155Z",
     "start_time": "2025-04-23T08:30:19.502960Z"
    }
   },
   "source": [
    "import torch\n",
    "from torch import nn\n",
    "\n",
    "net = nn.Sequential(nn.Linear(4, 8),\n",
    "                    nn.ReLU(),\n",
    "                    nn.Linear(8,1 ))\n",
    "X = torch.rand(size=(2, 4))\n",
    "net(X)"
   ],
   "outputs": [
    {
     "data": {
      "text/plain": [
       "tensor([[-0.2118],\n",
       "        [-0.1573]], grad_fn=<AddmmBackward0>)"
      ]
     },
     "execution_count": 1,
     "metadata": {},
     "output_type": "execute_result"
    }
   ],
   "execution_count": 1
  },
  {
   "metadata": {},
   "cell_type": "markdown",
   "source": "# 1. 参数访问",
   "id": "98c4a57ca535b3d6"
  },
  {
   "metadata": {
    "ExecuteTime": {
     "end_time": "2025-04-23T08:31:00.874341Z",
     "start_time": "2025-04-23T08:31:00.867720Z"
    }
   },
   "cell_type": "code",
   "source": "print(net[2].state_dict())",
   "id": "8e13c6a6f9f89031",
   "outputs": [
    {
     "name": "stdout",
     "output_type": "stream",
     "text": [
      "OrderedDict([('weight', tensor([[-0.2194, -0.2363, -0.2189,  0.0463,  0.3237, -0.1000,  0.2390, -0.1324]])), ('bias', tensor([-0.1388]))])\n"
     ]
    }
   ],
   "execution_count": 2
  },
  {
   "metadata": {},
   "cell_type": "markdown",
   "source": "## 1.1 目标参数",
   "id": "f7204a35824b1ef0"
  },
  {
   "metadata": {
    "ExecuteTime": {
     "end_time": "2025-04-23T08:34:15.189224Z",
     "start_time": "2025-04-23T08:34:15.183463Z"
    }
   },
   "cell_type": "code",
   "source": [
    "print(type(net[2].bias))\n",
    "print(net[2].bias)\n",
    "print(net[2].bias.data)"
   ],
   "id": "515fa08c81e59fec",
   "outputs": [
    {
     "name": "stdout",
     "output_type": "stream",
     "text": [
      "<class 'torch.nn.parameter.Parameter'>\n",
      "Parameter containing:\n",
      "tensor([-0.1388], requires_grad=True)\n",
      "tensor([-0.1388])\n"
     ]
    }
   ],
   "execution_count": 3
  },
  {
   "metadata": {
    "ExecuteTime": {
     "end_time": "2025-04-23T08:37:12.135998Z",
     "start_time": "2025-04-23T08:37:12.130535Z"
    }
   },
   "cell_type": "code",
   "source": "net[2].weight.grad == None",
   "id": "4013abe25c655e36",
   "outputs": [
    {
     "data": {
      "text/plain": [
       "True"
      ]
     },
     "execution_count": 4,
     "metadata": {},
     "output_type": "execute_result"
    }
   ],
   "execution_count": 4
  },
  {
   "metadata": {},
   "cell_type": "markdown",
   "source": "## 1.2 一次性访问所有参数",
   "id": "fb13aaca89cdff9c"
  },
  {
   "metadata": {
    "ExecuteTime": {
     "end_time": "2025-04-23T08:38:52.979371Z",
     "start_time": "2025-04-23T08:38:52.975618Z"
    }
   },
   "cell_type": "code",
   "source": [
    "print(*[(name, param.shape) for name, param in net[0].named_parameters()])\n",
    "print(*[(name, param.shape) for name, param in net.named_parameters()])"
   ],
   "id": "fe164385cc95c25d",
   "outputs": [
    {
     "name": "stdout",
     "output_type": "stream",
     "text": [
      "('weight', torch.Size([8, 4])) ('bias', torch.Size([8]))\n",
      "('0.weight', torch.Size([8, 4])) ('0.bias', torch.Size([8])) ('2.weight', torch.Size([1, 8])) ('2.bias', torch.Size([1]))\n"
     ]
    }
   ],
   "execution_count": 5
  },
  {
   "metadata": {
    "ExecuteTime": {
     "end_time": "2025-04-23T08:39:20.741509Z",
     "start_time": "2025-04-23T08:39:20.736042Z"
    }
   },
   "cell_type": "code",
   "source": [
    "# 另一种访问网络参数的方式\n",
    "net.state_dict()['2.bias'].data"
   ],
   "id": "e4f3b1456e823b9d",
   "outputs": [
    {
     "data": {
      "text/plain": [
       "tensor([-0.1388])"
      ]
     },
     "execution_count": 6,
     "metadata": {},
     "output_type": "execute_result"
    }
   ],
   "execution_count": 6
  },
  {
   "metadata": {},
   "cell_type": "markdown",
   "source": "## 1.3 从嵌套块收集参数",
   "id": "8d0daa98ce5614a1"
  },
  {
   "metadata": {
    "ExecuteTime": {
     "end_time": "2025-04-23T08:42:45.753200Z",
     "start_time": "2025-04-23T08:42:45.743732Z"
    }
   },
   "cell_type": "code",
   "source": [
    "def block1():\n",
    "    return nn.Sequential(nn.Linear(4, 8), nn.ReLU(),\n",
    "                         nn.Linear(8, 4), nn.ReLU())\n",
    "\n",
    "def block2():\n",
    "    net = nn.Sequential()\n",
    "    for i in range(4):\n",
    "        net.add_module(f'block{i}', block1())\n",
    "    return net\n",
    "\n",
    "rgnet = nn.Sequential(block2(), nn.Linear(4, 1))\n",
    "rgnet(X)\n"
   ],
   "id": "7f19bc4e2ffedffa",
   "outputs": [
    {
     "data": {
      "text/plain": [
       "tensor([[0.3701],\n",
       "        [0.3701]], grad_fn=<AddmmBackward0>)"
      ]
     },
     "execution_count": 7,
     "metadata": {},
     "output_type": "execute_result"
    }
   ],
   "execution_count": 7
  },
  {
   "metadata": {
    "ExecuteTime": {
     "end_time": "2025-04-23T08:43:06.127600Z",
     "start_time": "2025-04-23T08:43:06.124394Z"
    }
   },
   "cell_type": "code",
   "source": "print(rgnet)",
   "id": "a927a9e25125b45f",
   "outputs": [
    {
     "name": "stdout",
     "output_type": "stream",
     "text": [
      "Sequential(\n",
      "  (0): Sequential(\n",
      "    (block0): Sequential(\n",
      "      (0): Linear(in_features=4, out_features=8, bias=True)\n",
      "      (1): ReLU()\n",
      "      (2): Linear(in_features=8, out_features=4, bias=True)\n",
      "      (3): ReLU()\n",
      "    )\n",
      "    (block1): Sequential(\n",
      "      (0): Linear(in_features=4, out_features=8, bias=True)\n",
      "      (1): ReLU()\n",
      "      (2): Linear(in_features=8, out_features=4, bias=True)\n",
      "      (3): ReLU()\n",
      "    )\n",
      "    (block2): Sequential(\n",
      "      (0): Linear(in_features=4, out_features=8, bias=True)\n",
      "      (1): ReLU()\n",
      "      (2): Linear(in_features=8, out_features=4, bias=True)\n",
      "      (3): ReLU()\n",
      "    )\n",
      "    (block3): Sequential(\n",
      "      (0): Linear(in_features=4, out_features=8, bias=True)\n",
      "      (1): ReLU()\n",
      "      (2): Linear(in_features=8, out_features=4, bias=True)\n",
      "      (3): ReLU()\n",
      "    )\n",
      "  )\n",
      "  (1): Linear(in_features=4, out_features=1, bias=True)\n",
      ")\n"
     ]
    }
   ],
   "execution_count": 8
  },
  {
   "metadata": {
    "ExecuteTime": {
     "end_time": "2025-04-23T08:44:58.835399Z",
     "start_time": "2025-04-23T08:44:58.830438Z"
    }
   },
   "cell_type": "code",
   "source": "rgnet[0][1][0].bias.data",
   "id": "6cb948fc1e5a4285",
   "outputs": [
    {
     "data": {
      "text/plain": [
       "tensor([-0.0102,  0.4263,  0.2063,  0.0388, -0.4838,  0.2174, -0.3439, -0.3518])"
      ]
     },
     "execution_count": 9,
     "metadata": {},
     "output_type": "execute_result"
    }
   ],
   "execution_count": 9
  },
  {
   "metadata": {},
   "cell_type": "markdown",
   "source": [
    "# 2. 参数初始化\n",
    "\n",
    "## 2.1 内置初始化"
   ],
   "id": "4900a2bc9727eb38"
  },
  {
   "metadata": {
    "ExecuteTime": {
     "end_time": "2025-04-23T08:47:36.456186Z",
     "start_time": "2025-04-23T08:47:36.448232Z"
    }
   },
   "cell_type": "code",
   "source": [
    "def init_normal(m):\n",
    "    if type(m) == nn.Linear:\n",
    "        nn.init.normal_(m.weight, mean=0, std=0.01)\n",
    "        nn.init.zeros_(m.bias)\n",
    "\n",
    "net.apply(init_normal)\n",
    "net[0].weight.data[0], net[0].bias.data[0]"
   ],
   "id": "5f72ca59eb0cc19f",
   "outputs": [
    {
     "data": {
      "text/plain": [
       "(tensor([0.0102, 0.0072, 0.0088, 0.0028]), tensor(0.))"
      ]
     },
     "execution_count": 10,
     "metadata": {},
     "output_type": "execute_result"
    }
   ],
   "execution_count": 10
  },
  {
   "metadata": {
    "ExecuteTime": {
     "end_time": "2025-04-23T08:50:21.694697Z",
     "start_time": "2025-04-23T08:50:21.685988Z"
    }
   },
   "cell_type": "code",
   "source": [
    "def init_constant(m):\n",
    "    if type(m) == nn.Linear:\n",
    "        nn.init.constant_(m.weight, 1)\n",
    "        nn.init.zeros_(m.bias)\n",
    "\n",
    "net.apply(init_constant)\n",
    "net[0].weight.data[0], net[0].bias.data[0]"
   ],
   "id": "b86ca52fb7c900b6",
   "outputs": [
    {
     "data": {
      "text/plain": [
       "(tensor([1., 1., 1., 1.]), tensor(0.))"
      ]
     },
     "execution_count": 11,
     "metadata": {},
     "output_type": "execute_result"
    }
   ],
   "execution_count": 11
  },
  {
   "metadata": {
    "ExecuteTime": {
     "end_time": "2025-04-23T08:52:32.562406Z",
     "start_time": "2025-04-23T08:52:32.558182Z"
    }
   },
   "cell_type": "code",
   "source": [
    "def init_xavier(m):\n",
    "    if type(m) == nn.Linear:\n",
    "        nn.init.xavier_uniform_(m.weight)\n",
    "\n",
    "def init_42(m):\n",
    "    if type(m) == nn.Linear:\n",
    "        nn.init.constant_(m.weight, 42)\n",
    "\n",
    "net[0].apply(init_xavier)\n",
    "net[2].apply(init_42)\n",
    "print(net[0].weight.data[0])\n",
    "print(net[2].weight.data)"
   ],
   "id": "fae278268437693b",
   "outputs": [
    {
     "name": "stdout",
     "output_type": "stream",
     "text": [
      "tensor([ 0.2837, -0.3414, -0.3927, -0.1527])\n",
      "tensor([[42., 42., 42., 42., 42., 42., 42., 42.]])\n"
     ]
    }
   ],
   "execution_count": 13
  },
  {
   "metadata": {},
   "cell_type": "markdown",
   "source": "## 2.2 自定义初始化",
   "id": "7cafbf5ba536c4e7"
  },
  {
   "metadata": {
    "ExecuteTime": {
     "end_time": "2025-04-24T07:00:59.981080Z",
     "start_time": "2025-04-24T07:00:59.964220Z"
    }
   },
   "cell_type": "code",
   "source": [
    "def my_init(m):\n",
    "    if type(m) == nn.Linear:\n",
    "        print(\"Init\", *[(name, param.shape)\n",
    "                        for name, param in m.named_parameters()][0])\n",
    "        nn.init.uniform_(m.weight, -10, 10)\n",
    "        m.weight.data *= m.weight.data.abs() >= 5\n",
    "\n",
    "net.apply(my_init)\n",
    "net[0].weight[:2]"
   ],
   "id": "1510678af851bf8",
   "outputs": [
    {
     "name": "stdout",
     "output_type": "stream",
     "text": [
      "Init weight torch.Size([8, 4])\n",
      "Init weight torch.Size([1, 8])\n"
     ]
    },
    {
     "data": {
      "text/plain": [
       "tensor([[-6.5130, -0.0000, -0.0000,  6.6924],\n",
       "        [ 0.0000,  8.1664, -0.0000,  0.0000]], grad_fn=<SliceBackward0>)"
      ]
     },
     "execution_count": 14,
     "metadata": {},
     "output_type": "execute_result"
    }
   ],
   "execution_count": 14
  },
  {
   "metadata": {
    "ExecuteTime": {
     "end_time": "2025-04-24T07:01:56.208279Z",
     "start_time": "2025-04-24T07:01:56.201199Z"
    }
   },
   "cell_type": "code",
   "source": [
    "net[0].weight.data[:] += 1\n",
    "net[0].weight.data[0, 0] = 42\n",
    "net[0].weight.data[0]"
   ],
   "id": "540ba3778901066d",
   "outputs": [
    {
     "data": {
      "text/plain": [
       "tensor([42.0000,  1.0000,  1.0000,  7.6924])"
      ]
     },
     "execution_count": 15,
     "metadata": {},
     "output_type": "execute_result"
    }
   ],
   "execution_count": 15
  },
  {
   "metadata": {},
   "cell_type": "markdown",
   "source": "# 2.3 参数绑定\n",
   "id": "2d455a19b9303ae2"
  },
  {
   "metadata": {
    "ExecuteTime": {
     "end_time": "2025-04-24T07:05:27.595406Z",
     "start_time": "2025-04-24T07:05:27.587032Z"
    }
   },
   "cell_type": "code",
   "source": [
    "# 我们需要给共享层一个名称，以便可以引用它的参数\n",
    "shared = nn.Linear(8, 8)\n",
    "net = nn.Sequential(nn.Linear(4, 8), nn.ReLU(),\n",
    "                    shared, nn.ReLU(),\n",
    "                    shared, nn.ReLU(),\n",
    "                    nn.Linear(8, 1))\n",
    "net(X)\n",
    "# 检查参数是否相同\n",
    "print(net[2].weight.data[0] == net[4].weight.data[0])\n",
    "net[2].weight.data[0, 0] = 100\n",
    "# 确保它们实际上是同一个对象，而不只是有相同的值\n",
    "print(net[2].weight.data[0] == net[4].weight.data[0])"
   ],
   "id": "36ad939da5e0f213",
   "outputs": [
    {
     "name": "stdout",
     "output_type": "stream",
     "text": [
      "tensor([True, True, True, True, True, True, True, True])\n",
      "tensor([True, True, True, True, True, True, True, True])\n"
     ]
    }
   ],
   "execution_count": 17
  },
  {
   "metadata": {},
   "cell_type": "code",
   "outputs": [],
   "execution_count": null,
   "source": "",
   "id": "25ef91eba201777b"
  }
 ],
 "metadata": {
  "kernelspec": {
   "display_name": "Python 3",
   "language": "python",
   "name": "python3"
  },
  "language_info": {
   "codemirror_mode": {
    "name": "ipython",
    "version": 2
   },
   "file_extension": ".py",
   "mimetype": "text/x-python",
   "name": "python",
   "nbconvert_exporter": "python",
   "pygments_lexer": "ipython2",
   "version": "2.7.6"
  }
 },
 "nbformat": 4,
 "nbformat_minor": 5
}
