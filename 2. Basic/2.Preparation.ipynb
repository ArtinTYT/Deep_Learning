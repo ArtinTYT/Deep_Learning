{
 "cells": [
  {
   "metadata": {},
   "cell_type": "markdown",
   "source": [
    "## 2.1 数据操作\n",
    "\n",
    "+ 张量：表示一个由数值组成的数组，这个数组可能有多个维度\n",
    "    - 具有一个轴的张量对应数学上的向量（vector）；\n",
    "    - 具有两个轴的张量对应数学上的矩阵（matrix）；\n",
    "    - 具有两个轴以上的张量没有特殊的数学名称。\n",
    "    - 张量中的每个值都称为张量的 元素（element).\n",
    "\n",
    "例如，张量 x 中有 12 个元素。除非额外指定，新的张量将存储在内存中，并采用基于CPU的计算。"
   ],
   "id": "80b5e24c6e7c240a"
  },
  {
   "metadata": {
    "ExecuteTime": {
     "end_time": "2025-03-25T13:14:28.182883Z",
     "start_time": "2025-03-25T13:14:28.178511Z"
    }
   },
   "cell_type": "code",
   "source": [
    "import torch\n",
    "\n",
    "x = torch.arange(12)\n",
    "x"
   ],
   "id": "4b43cbeb6fbc5910",
   "outputs": [
    {
     "data": {
      "text/plain": [
       "tensor([ 0,  1,  2,  3,  4,  5,  6,  7,  8,  9, 10, 11])"
      ]
     },
     "execution_count": 5,
     "metadata": {},
     "output_type": "execute_result"
    }
   ],
   "execution_count": 5
  },
  {
   "metadata": {
    "ExecuteTime": {
     "end_time": "2025-03-25T13:14:28.207257Z",
     "start_time": "2025-03-25T13:14:28.204668Z"
    }
   },
   "cell_type": "code",
   "source": [
    "# 查看张量中元素的总数\n",
    "x.shape"
   ],
   "id": "74950a70afb78b99",
   "outputs": [
    {
     "data": {
      "text/plain": [
       "torch.Size([12])"
      ]
     },
     "execution_count": 6,
     "metadata": {},
     "output_type": "execute_result"
    }
   ],
   "execution_count": 6
  },
  {
   "metadata": {
    "ExecuteTime": {
     "end_time": "2025-03-25T13:14:28.229334Z",
     "start_time": "2025-03-25T13:14:28.226473Z"
    }
   },
   "cell_type": "code",
   "source": [
    "#\n",
    "x.numel()"
   ],
   "id": "a52c0beffd70ea37",
   "outputs": [
    {
     "data": {
      "text/plain": [
       "12"
      ]
     },
     "execution_count": 7,
     "metadata": {},
     "output_type": "execute_result"
    }
   ],
   "execution_count": 7
  },
  {
   "metadata": {
    "ExecuteTime": {
     "end_time": "2025-03-25T13:14:28.252462Z",
     "start_time": "2025-03-25T13:14:28.248950Z"
    }
   },
   "cell_type": "code",
   "source": [
    "# 改变张量的形状而不改变元素数量和元素值，可以调用reshape函数\n",
    "X = x.reshape(3,4)\n",
    "X"
   ],
   "id": "c7a88d9ec59bdec8",
   "outputs": [
    {
     "data": {
      "text/plain": [
       "tensor([[ 0,  1,  2,  3],\n",
       "        [ 4,  5,  6,  7],\n",
       "        [ 8,  9, 10, 11]])"
      ]
     },
     "execution_count": 8,
     "metadata": {},
     "output_type": "execute_result"
    }
   ],
   "execution_count": 8
  },
  {
   "metadata": {
    "ExecuteTime": {
     "end_time": "2025-03-25T13:14:28.306265Z",
     "start_time": "2025-03-25T13:14:28.300856Z"
    }
   },
   "cell_type": "code",
   "source": [
    "# 利用-1来调用此自动计算出维度\n",
    "x.reshape(-1, 4)\n",
    "# 或者\n",
    "x.reshape(3, -1)"
   ],
   "id": "afe5b410d21b5e73",
   "outputs": [
    {
     "data": {
      "text/plain": [
       "tensor([[ 0,  1,  2,  3],\n",
       "        [ 4,  5,  6,  7],\n",
       "        [ 8,  9, 10, 11]])"
      ]
     },
     "execution_count": 9,
     "metadata": {},
     "output_type": "execute_result"
    }
   ],
   "execution_count": 9
  },
  {
   "metadata": {
    "ExecuteTime": {
     "end_time": "2025-03-25T13:14:28.461142Z",
     "start_time": "2025-03-25T13:14:28.438916Z"
    }
   },
   "cell_type": "code",
   "source": [
    "# 以创建一个形状为（2,3,4）的张量， 元素为0\n",
    "torch.zeros((2,3,4))\n",
    "# 或者 元素为1\n",
    "torch.ones((2,3,4))"
   ],
   "id": "1f051ceae48efc49",
   "outputs": [
    {
     "data": {
      "text/plain": [
       "tensor([[[1., 1., 1., 1.],\n",
       "         [1., 1., 1., 1.],\n",
       "         [1., 1., 1., 1.]],\n",
       "\n",
       "        [[1., 1., 1., 1.],\n",
       "         [1., 1., 1., 1.],\n",
       "         [1., 1., 1., 1.]]])"
      ]
     },
     "execution_count": 10,
     "metadata": {},
     "output_type": "execute_result"
    }
   ],
   "execution_count": 10
  },
  {
   "metadata": {
    "ExecuteTime": {
     "end_time": "2025-03-25T13:14:28.597655Z",
     "start_time": "2025-03-25T13:14:28.592456Z"
    }
   },
   "cell_type": "code",
   "source": [
    "# 其中的每个元素都从均值为0、标准差为1的标准高斯分布（正态分布）中随机采样\n",
    "# 形状为（3，,4）的张量\n",
    "torch.randn(3,4)"
   ],
   "id": "edb9d60dfbde4c1c",
   "outputs": [
    {
     "data": {
      "text/plain": [
       "tensor([[-1.5054,  2.8457, -0.2427,  0.3031],\n",
       "        [-0.9437, -0.4599, -0.2009, -0.5117],\n",
       "        [-0.4263,  1.2327,  0.2032, -0.7085]])"
      ]
     },
     "execution_count": 11,
     "metadata": {},
     "output_type": "execute_result"
    }
   ],
   "execution_count": 11
  },
  {
   "metadata": {
    "ExecuteTime": {
     "end_time": "2025-03-25T13:14:28.644389Z",
     "start_time": "2025-03-25T13:14:28.640122Z"
    }
   },
   "cell_type": "code",
   "source": [
    "# 最外层的列表对应于轴0，内层的列表对应于轴1\n",
    "torch.tensor([[2,1,4,3],\n",
    "             [2,3,4,5],\n",
    "             [3,4,5,6]])"
   ],
   "id": "deaeaf32a492e822",
   "outputs": [
    {
     "data": {
      "text/plain": [
       "tensor([[2, 1, 4, 3],\n",
       "        [2, 3, 4, 5],\n",
       "        [3, 4, 5, 6]])"
      ]
     },
     "execution_count": 12,
     "metadata": {},
     "output_type": "execute_result"
    }
   ],
   "execution_count": 12
  },
  {
   "metadata": {},
   "cell_type": "markdown",
   "source": "### 2.1.2 运算符\n",
   "id": "8e55ace06ed744dc"
  },
  {
   "metadata": {
    "ExecuteTime": {
     "end_time": "2025-03-25T13:14:28.718359Z",
     "start_time": "2025-03-25T13:14:28.712979Z"
    }
   },
   "cell_type": "code",
   "source": [
    "x = torch.tensor([1.0, 2, 4, 8])\n",
    "y = torch.tensor([2, 2, 2, 2])\n",
    "x+y, x-y, x*y, x/y, x**y"
   ],
   "id": "2f3e154bca3d3547",
   "outputs": [
    {
     "data": {
      "text/plain": [
       "(tensor([ 3.,  4.,  6., 10.]),\n",
       " tensor([-1.,  0.,  2.,  6.]),\n",
       " tensor([ 2.,  4.,  8., 16.]),\n",
       " tensor([0.5000, 1.0000, 2.0000, 4.0000]),\n",
       " tensor([ 1.,  4., 16., 64.]))"
      ]
     },
     "execution_count": 13,
     "metadata": {},
     "output_type": "execute_result"
    }
   ],
   "execution_count": 13
  },
  {
   "metadata": {
    "ExecuteTime": {
     "end_time": "2025-03-25T13:14:28.775181Z",
     "start_time": "2025-03-25T13:14:28.765795Z"
    }
   },
   "cell_type": "code",
   "source": "torch.exp(x)",
   "id": "dd807bea106e5798",
   "outputs": [
    {
     "data": {
      "text/plain": [
       "tensor([2.7183e+00, 7.3891e+00, 5.4598e+01, 2.9810e+03])"
      ]
     },
     "execution_count": 14,
     "metadata": {},
     "output_type": "execute_result"
    }
   ],
   "execution_count": 14
  },
  {
   "metadata": {
    "ExecuteTime": {
     "end_time": "2025-03-25T13:14:28.870367Z",
     "start_time": "2025-03-25T13:14:28.863055Z"
    }
   },
   "cell_type": "code",
   "source": [
    "# 以把多个张量连结，端对端地叠起来形成一个更大的张量\n",
    "X = torch.arange(12, dtype=torch.float32).reshape((3, 4))\n",
    "Y = torch.tensor([[2.0,1,4,3], [1,2,3,4], [4,3,2,1]])\n",
    "torch.cat((X, Y), dim=0), torch.cat((X, Y), dim=1)"
   ],
   "id": "becaf23aff9358fc",
   "outputs": [
    {
     "data": {
      "text/plain": [
       "(tensor([[ 0.,  1.,  2.,  3.],\n",
       "         [ 4.,  5.,  6.,  7.],\n",
       "         [ 8.,  9., 10., 11.],\n",
       "         [ 2.,  1.,  4.,  3.],\n",
       "         [ 1.,  2.,  3.,  4.],\n",
       "         [ 4.,  3.,  2.,  1.]]),\n",
       " tensor([[ 0.,  1.,  2.,  3.,  2.,  1.,  4.,  3.],\n",
       "         [ 4.,  5.,  6.,  7.,  1.,  2.,  3.,  4.],\n",
       "         [ 8.,  9., 10., 11.,  4.,  3.,  2.,  1.]]))"
      ]
     },
     "execution_count": 15,
     "metadata": {},
     "output_type": "execute_result"
    }
   ],
   "execution_count": 15
  },
  {
   "metadata": {
    "ExecuteTime": {
     "end_time": "2025-03-25T13:14:28.904336Z",
     "start_time": "2025-03-25T13:14:28.899008Z"
    }
   },
   "cell_type": "code",
   "source": [
    "# 如果X和Y在该位置相等\n",
    "X == Y"
   ],
   "id": "b59a54749a8c6cbf",
   "outputs": [
    {
     "data": {
      "text/plain": [
       "tensor([[False,  True, False,  True],\n",
       "        [False, False, False, False],\n",
       "        [False, False, False, False]])"
      ]
     },
     "execution_count": 16,
     "metadata": {},
     "output_type": "execute_result"
    }
   ],
   "execution_count": 16
  },
  {
   "metadata": {
    "ExecuteTime": {
     "end_time": "2025-03-25T13:14:28.950691Z",
     "start_time": "2025-03-25T13:14:28.945402Z"
    }
   },
   "cell_type": "code",
   "source": "X.sum()",
   "id": "1fbe624c6e4ae36a",
   "outputs": [
    {
     "data": {
      "text/plain": [
       "tensor(66.)"
      ]
     },
     "execution_count": 17,
     "metadata": {},
     "output_type": "execute_result"
    }
   ],
   "execution_count": 17
  },
  {
   "metadata": {},
   "cell_type": "markdown",
   "source": [
    "### 2.1.3 广播机制\n",
    "在某些情况下，即使形状不同，我们仍然可以通过调用 广播机制（broadcasting mechanism）来执行按元素操作。这种机制的工作方式如\n",
    "下：\n",
    "1. 通过适当复制元素来扩展一个或两个数组，以便在转换之后，两个张量具有相同的形状；\n",
    "2. 对生成的数组执行按元素操作。\n",
    "\n",
    "在大多数情况下，我们将沿着数组中长度为1的轴进行广播"
   ],
   "id": "c93a8a920b881253"
  },
  {
   "metadata": {
    "ExecuteTime": {
     "end_time": "2025-03-25T13:14:29.068565Z",
     "start_time": "2025-03-25T13:14:29.064685Z"
    }
   },
   "cell_type": "code",
   "source": [
    "a = torch.arange(3).reshape((3, 1))\n",
    "b = torch.arange(2).reshape((1, 2))\n",
    "a, b"
   ],
   "id": "768e859c61e239e1",
   "outputs": [
    {
     "data": {
      "text/plain": [
       "(tensor([[0],\n",
       "         [1],\n",
       "         [2]]),\n",
       " tensor([[0, 1]]))"
      ]
     },
     "execution_count": 18,
     "metadata": {},
     "output_type": "execute_result"
    }
   ],
   "execution_count": 18
  },
  {
   "metadata": {
    "ExecuteTime": {
     "end_time": "2025-03-25T13:14:29.111082Z",
     "start_time": "2025-03-25T13:14:29.107077Z"
    }
   },
   "cell_type": "code",
   "source": "a + b",
   "id": "436d3e352874677",
   "outputs": [
    {
     "data": {
      "text/plain": [
       "tensor([[0, 1],\n",
       "        [1, 2],\n",
       "        [2, 3]])"
      ]
     },
     "execution_count": 19,
     "metadata": {},
     "output_type": "execute_result"
    }
   ],
   "execution_count": 19
  },
  {
   "metadata": {},
   "cell_type": "markdown",
   "source": "### 2.1.4 索引和切片",
   "id": "62a1caf0bbf5ab3d"
  },
  {
   "metadata": {
    "ExecuteTime": {
     "end_time": "2025-03-25T13:14:29.160146Z",
     "start_time": "2025-03-25T13:14:29.155438Z"
    }
   },
   "cell_type": "code",
   "source": [
    "# 用[-1]选择最后一个元素，可以用[1:3]选择第二个和第三个元素\n",
    "X[-1], X[1,3]"
   ],
   "id": "c09b8b4e21de7713",
   "outputs": [
    {
     "data": {
      "text/plain": [
       "(tensor([ 8.,  9., 10., 11.]), tensor(7.))"
      ]
     },
     "execution_count": 20,
     "metadata": {},
     "output_type": "execute_result"
    }
   ],
   "execution_count": 20
  },
  {
   "metadata": {
    "ExecuteTime": {
     "end_time": "2025-03-25T13:14:29.201622Z",
     "start_time": "2025-03-25T13:14:29.198268Z"
    }
   },
   "cell_type": "code",
   "source": [
    "# 指定索引来将元素写入矩阵\n",
    "X[1,2] =9\n",
    "X"
   ],
   "id": "47c2ef11fbe55f49",
   "outputs": [
    {
     "data": {
      "text/plain": [
       "tensor([[ 0.,  1.,  2.,  3.],\n",
       "        [ 4.,  5.,  9.,  7.],\n",
       "        [ 8.,  9., 10., 11.]])"
      ]
     },
     "execution_count": 21,
     "metadata": {},
     "output_type": "execute_result"
    }
   ],
   "execution_count": 21
  },
  {
   "metadata": {
    "ExecuteTime": {
     "end_time": "2025-03-25T13:14:29.248530Z",
     "start_time": "2025-03-25T13:14:29.244715Z"
    }
   },
   "cell_type": "code",
   "source": [
    "# 想为多个元素赋值相同的值 row=[0:2] column=[:]\n",
    "X[0:2, :] = 12\n",
    "X"
   ],
   "id": "92ee83462730937f",
   "outputs": [
    {
     "data": {
      "text/plain": [
       "tensor([[12., 12., 12., 12.],\n",
       "        [12., 12., 12., 12.],\n",
       "        [ 8.,  9., 10., 11.]])"
      ]
     },
     "execution_count": 22,
     "metadata": {},
     "output_type": "execute_result"
    }
   ],
   "execution_count": 22
  },
  {
   "metadata": {},
   "cell_type": "markdown",
   "source": "### 2.1.5. 节省内存\n",
   "id": "393b5b8fd77878c0"
  },
  {
   "metadata": {
    "ExecuteTime": {
     "end_time": "2025-03-25T13:14:29.292615Z",
     "start_time": "2025-03-25T13:14:29.289439Z"
    }
   },
   "cell_type": "code",
   "source": [
    "# before 存着Y的id， 然后更新Y， 这时候发现两个Y的id不同\n",
    "# 因为Python首先计算Y + X，为结果分配新的内存\n",
    "before = id(Y)\n",
    "Y = Y + X\n",
    "id(Y) == before"
   ],
   "id": "947c0f20b78590cf",
   "outputs": [
    {
     "data": {
      "text/plain": [
       "False"
      ]
     },
     "execution_count": 23,
     "metadata": {},
     "output_type": "execute_result"
    }
   ],
   "execution_count": 23
  },
  {
   "metadata": {
    "ExecuteTime": {
     "end_time": "2025-03-25T13:14:29.344343Z",
     "start_time": "2025-03-25T13:14:29.341134Z"
    }
   },
   "cell_type": "code",
   "source": [
    "# 执行原地操作\n",
    "Z = torch.zeros_like(Y)\n",
    "print('id(Z): ', id(Z))\n",
    "Z[:] = X + Y\n",
    "print('id(Z): ', id(Z))"
   ],
   "id": "c59ecb56baa94895",
   "outputs": [
    {
     "name": "stdout",
     "output_type": "stream",
     "text": [
      "id(Z):  5831556976\n",
      "id(Z):  5831556976\n"
     ]
    }
   ],
   "execution_count": 24
  },
  {
   "metadata": {
    "ExecuteTime": {
     "end_time": "2025-03-25T13:14:29.390974Z",
     "start_time": "2025-03-25T13:14:29.388134Z"
    }
   },
   "cell_type": "code",
   "source": [
    "# 如果在后续计算中没有重复使用X， 我们也可以使用X[:] = X + Y 或 X += Y 来减少操作的内存开销\n",
    "before = id(X)\n",
    "X += Y\n",
    "id(X) == before"
   ],
   "id": "a43e71488b180916",
   "outputs": [
    {
     "data": {
      "text/plain": [
       "True"
      ]
     },
     "execution_count": 25,
     "metadata": {},
     "output_type": "execute_result"
    }
   ],
   "execution_count": 25
  },
  {
   "metadata": {},
   "cell_type": "markdown",
   "source": "### 2.1.6 转换为其他Python对象",
   "id": "8e936f80d2f612d6"
  },
  {
   "metadata": {
    "ExecuteTime": {
     "end_time": "2025-03-25T13:14:29.430525Z",
     "start_time": "2025-03-25T13:14:29.425877Z"
    }
   },
   "cell_type": "code",
   "source": [
    "A = X.numpy()\n",
    "B = torch.tensor(A)\n",
    "type(A), type(B)"
   ],
   "id": "1c6c924b68fedd03",
   "outputs": [
    {
     "data": {
      "text/plain": [
       "(numpy.ndarray, torch.Tensor)"
      ]
     },
     "execution_count": 26,
     "metadata": {},
     "output_type": "execute_result"
    }
   ],
   "execution_count": 26
  },
  {
   "metadata": {
    "ExecuteTime": {
     "end_time": "2025-03-25T13:14:29.464537Z",
     "start_time": "2025-03-25T13:14:29.461395Z"
    }
   },
   "cell_type": "code",
   "source": [
    "# 将大小为1的张量转换为Python标量，我们可以调用item函数或Python的内置函数\n",
    "a = torch.tensor([3.5])\n",
    "a, a.item(), float(a), int(a)\n"
   ],
   "id": "e0857335b788cfd2",
   "outputs": [
    {
     "data": {
      "text/plain": [
       "(tensor([3.5000]), 3.5, 3.5, 3)"
      ]
     },
     "execution_count": 27,
     "metadata": {},
     "output_type": "execute_result"
    }
   ],
   "execution_count": 27
  },
  {
   "metadata": {},
   "cell_type": "markdown",
   "source": "## 2.2 数据预处理",
   "id": "704b2f323652e284"
  },
  {
   "metadata": {
    "ExecuteTime": {
     "end_time": "2025-03-25T13:14:29.488244Z",
     "start_time": "2025-03-25T13:14:29.486107Z"
    }
   },
   "cell_type": "code",
   "source": [
    "import os\n",
    "import pandas as pd\n",
    "import numpy as np\n",
    "import torch\n",
    "from numpy import nan as NaN"
   ],
   "id": "c282fff81ecf3bad",
   "outputs": [],
   "execution_count": 28
  },
  {
   "metadata": {
    "ExecuteTime": {
     "end_time": "2025-03-25T13:14:29.499580Z",
     "start_time": "2025-03-25T13:14:29.496530Z"
    }
   },
   "cell_type": "code",
   "source": [
    "os.makedirs(os.path.join('..', 'data'), exist_ok=True)  # 在上级目录创建data文件夹\n",
    "datafile = os.path.join('..', 'data', 'house_tiny.csv')  # 创建文件\n",
    "with open(datafile, 'w') as f:  # 往文件中写数据\n",
    "    f.write('NumRooms,Alley,Price\\n')  # 列名\n",
    "    f.write('NA,Pave,127500\\n')  # 第1行的值\n",
    "    f.write('2,NA,106000\\n')  # 第2行的值\n",
    "    f.write('4,NA,178100\\n')  # 第3行的值\n",
    "    f.write('NA,NA,140000\\n')  # 第4行的值"
   ],
   "id": "65ae4b05a616b0bc",
   "outputs": [],
   "execution_count": 29
  },
  {
   "metadata": {
    "ExecuteTime": {
     "end_time": "2025-03-25T13:14:29.517627Z",
     "start_time": "2025-03-25T13:14:29.509132Z"
    }
   },
   "cell_type": "code",
   "source": [
    "data = pd.read_csv(datafile)  # 可以看到原始表格中的空值NA被识别成了NaN\n",
    "print('1.原始数据:\\n', data)"
   ],
   "id": "b4072ae5a3dfbfd5",
   "outputs": [
    {
     "name": "stdout",
     "output_type": "stream",
     "text": [
      "1.原始数据:\n",
      "    NumRooms Alley   Price\n",
      "0       NaN  Pave  127500\n",
      "1       2.0   NaN  106000\n",
      "2       4.0   NaN  178100\n",
      "3       NaN   NaN  140000\n"
     ]
    }
   ],
   "execution_count": 30
  },
  {
   "metadata": {},
   "cell_type": "markdown",
   "source": [
    "### 2.2.2. 处理缺失值\n",
    "“NaN”项代表缺失值。 为了处理缺失的数据，典型的方法包括插值法和删除法"
   ],
   "id": "e7cd814e35a979c5"
  },
  {
   "metadata": {
    "ExecuteTime": {
     "end_time": "2025-03-25T13:14:29.534563Z",
     "start_time": "2025-03-25T13:14:29.528818Z"
    }
   },
   "cell_type": "code",
   "source": [
    "# 将NA 填 mean值\n",
    "inputs, outputs = data.iloc[:, 0: 2], data.iloc[:, 2]\n",
    "inputs = inputs.fillna(inputs.mean(numeric_only=1))  # 用均值填充NaN\n",
    "print(inputs)\n",
    "print(outputs)"
   ],
   "id": "1cdd6460cce44852",
   "outputs": [
    {
     "name": "stdout",
     "output_type": "stream",
     "text": [
      "   NumRooms Alley\n",
      "0       3.0  Pave\n",
      "1       2.0   NaN\n",
      "2       4.0   NaN\n",
      "3       3.0   NaN\n",
      "0    127500\n",
      "1    106000\n",
      "2    178100\n",
      "3    140000\n",
      "Name: Price, dtype: int64\n"
     ]
    }
   ],
   "execution_count": 31
  },
  {
   "metadata": {
    "ExecuteTime": {
     "end_time": "2025-03-25T13:14:29.557319Z",
     "start_time": "2025-03-25T13:14:29.552261Z"
    }
   },
   "cell_type": "code",
   "source": [
    "# 利用pandas中的get_dummies函数来处理离散值或者类别值\n",
    "# 对于 inputs 中的类别值或离散值，我们将 “NaN” 视为一个类别\n",
    "inputs = pd.get_dummies(inputs, dummy_na=True)\n",
    "print('2.利用pandas中的get_dummies函数处理:\\n', inputs)"
   ],
   "id": "288b7a8492533a04",
   "outputs": [
    {
     "name": "stdout",
     "output_type": "stream",
     "text": [
      "2.利用pandas中的get_dummies函数处理:\n",
      "    NumRooms  Alley_Pave  Alley_nan\n",
      "0       3.0        True      False\n",
      "1       2.0       False       True\n",
      "2       4.0       False       True\n",
      "3       3.0       False       True\n"
     ]
    }
   ],
   "execution_count": 32
  },
  {
   "metadata": {
    "ExecuteTime": {
     "end_time": "2025-03-25T13:14:29.582299Z",
     "start_time": "2025-03-25T13:14:29.577794Z"
    }
   },
   "cell_type": "code",
   "source": [
    "import traceback\n",
    "\n",
    "try:\n",
    "    x, y = torch.tensor(inputs.values), torch.tensor(outputs.values)\n",
    "    print('3.转换为张量：')\n",
    "    print(x)\n",
    "    print(y)\n",
    "except Exception as e:\n",
    "    print('error:', e)\n",
    "    traceback.print_exc()\n"
   ],
   "id": "d69d7cb9cf2bd431",
   "outputs": [
    {
     "name": "stdout",
     "output_type": "stream",
     "text": [
      "error: can't convert np.ndarray of type numpy.object_. The only supported types are: float64, float32, float16, complex64, complex128, int64, int32, int16, int8, uint64, uint32, uint16, uint8, and bool.\n"
     ]
    },
    {
     "name": "stderr",
     "output_type": "stream",
     "text": [
      "Traceback (most recent call last):\n",
      "  File \"/var/folders/n3/3zv5zdk90pd1w7yxmmbp7dkh0000gn/T/ipykernel_66980/1445218818.py\", line 4, in <module>\n",
      "    x, y = torch.tensor(inputs.values), torch.tensor(outputs.values)\n",
      "           ~~~~~~~~~~~~^^^^^^^^^^^^^^^\n",
      "TypeError: can't convert np.ndarray of type numpy.object_. The only supported types are: float64, float32, float16, complex64, complex128, int64, int32, int16, int8, uint64, uint32, uint16, uint8, and bool.\n"
     ]
    }
   ],
   "execution_count": 33
  },
  {
   "metadata": {},
   "cell_type": "markdown",
   "source": [
    "## 2.3 线性代数\n",
    "\n",
    "### 2.3.1 标量\n"
   ],
   "id": "598a51ba0fd03c83"
  },
  {
   "metadata": {
    "ExecuteTime": {
     "end_time": "2025-03-25T13:14:29.606846Z",
     "start_time": "2025-03-25T13:14:29.603182Z"
    }
   },
   "cell_type": "code",
   "source": [
    "x = torch.tensor(3.0)\n",
    "y = torch.tensor(2.0)\n",
    "x+y, x*y, x/y, x**y"
   ],
   "id": "859ba852abb1fa73",
   "outputs": [
    {
     "data": {
      "text/plain": [
       "(tensor(5.), tensor(6.), tensor(1.5000), tensor(9.))"
      ]
     },
     "execution_count": 34,
     "metadata": {},
     "output_type": "execute_result"
    }
   ],
   "execution_count": 34
  },
  {
   "metadata": {},
   "cell_type": "markdown",
   "source": "### 2.3.2 向量\n",
   "id": "8be149b7d24bb177"
  },
  {
   "metadata": {
    "ExecuteTime": {
     "end_time": "2025-03-25T13:14:29.631661Z",
     "start_time": "2025-03-25T13:14:29.628029Z"
    }
   },
   "cell_type": "code",
   "source": [
    "x = torch.arange(4)\n",
    "x"
   ],
   "id": "9dc2be2ad0f661a0",
   "outputs": [
    {
     "data": {
      "text/plain": [
       "tensor([0, 1, 2, 3])"
      ]
     },
     "execution_count": 35,
     "metadata": {},
     "output_type": "execute_result"
    }
   ],
   "execution_count": 35
  },
  {
   "metadata": {},
   "cell_type": "markdown",
   "source": "### 长度、维度和形状",
   "id": "ed89eb12fd6bf302"
  },
  {
   "metadata": {
    "ExecuteTime": {
     "end_time": "2025-03-25T13:14:29.648344Z",
     "start_time": "2025-03-25T13:14:29.645781Z"
    }
   },
   "cell_type": "code",
   "source": "len(x), x.shape",
   "id": "f49d6453bc54ad19",
   "outputs": [
    {
     "data": {
      "text/plain": [
       "(4, torch.Size([4]))"
      ]
     },
     "execution_count": 36,
     "metadata": {},
     "output_type": "execute_result"
    }
   ],
   "execution_count": 36
  },
  {
   "metadata": {},
   "cell_type": "markdown",
   "source": "### 2.3.3 矩阵\n",
   "id": "ce9efbe8572c0df"
  },
  {
   "metadata": {
    "ExecuteTime": {
     "end_time": "2025-03-25T13:14:29.667023Z",
     "start_time": "2025-03-25T13:14:29.664085Z"
    }
   },
   "cell_type": "code",
   "source": [
    "A= torch.arange(12).reshape(3,4)\n",
    "print(A)"
   ],
   "id": "ae4d2421412a1418",
   "outputs": [
    {
     "name": "stdout",
     "output_type": "stream",
     "text": [
      "tensor([[ 0,  1,  2,  3],\n",
      "        [ 4,  5,  6,  7],\n",
      "        [ 8,  9, 10, 11]])\n"
     ]
    }
   ],
   "execution_count": 37
  },
  {
   "metadata": {},
   "cell_type": "markdown",
   "source": "### 矩阵的转置",
   "id": "cd3e20bcba3db5f2"
  },
  {
   "metadata": {
    "ExecuteTime": {
     "end_time": "2025-03-25T13:14:29.689656Z",
     "start_time": "2025-03-25T13:14:29.686091Z"
    }
   },
   "cell_type": "code",
   "source": "print(A.T)",
   "id": "23afbd59daf3ae41",
   "outputs": [
    {
     "name": "stdout",
     "output_type": "stream",
     "text": [
      "tensor([[ 0,  4,  8],\n",
      "        [ 1,  5,  9],\n",
      "        [ 2,  6, 10],\n",
      "        [ 3,  7, 11]])\n"
     ]
    }
   ],
   "execution_count": 38
  },
  {
   "metadata": {},
   "cell_type": "markdown",
   "source": "### 对称矩阵",
   "id": "f7723c21293f91aa"
  },
  {
   "metadata": {
    "ExecuteTime": {
     "end_time": "2025-03-25T13:14:29.720800Z",
     "start_time": "2025-03-25T13:14:29.717519Z"
    }
   },
   "cell_type": "code",
   "source": [
    "B = torch.tensor([[1, 2, 3],\n",
    "                  [2, 0, 4],\n",
    "                  [3, 4, 5]])\n",
    "B"
   ],
   "id": "6dc908369f4a8637",
   "outputs": [
    {
     "data": {
      "text/plain": [
       "tensor([[1, 2, 3],\n",
       "        [2, 0, 4],\n",
       "        [3, 4, 5]])"
      ]
     },
     "execution_count": 39,
     "metadata": {},
     "output_type": "execute_result"
    }
   ],
   "execution_count": 39
  },
  {
   "metadata": {
    "ExecuteTime": {
     "end_time": "2025-03-25T13:14:29.756087Z",
     "start_time": "2025-03-25T13:14:29.753154Z"
    }
   },
   "cell_type": "code",
   "source": "B == B.T",
   "id": "f39bc6d3a7b333eb",
   "outputs": [
    {
     "data": {
      "text/plain": [
       "tensor([[True, True, True],\n",
       "        [True, True, True],\n",
       "        [True, True, True]])"
      ]
     },
     "execution_count": 40,
     "metadata": {},
     "output_type": "execute_result"
    }
   ],
   "execution_count": 40
  },
  {
   "metadata": {},
   "cell_type": "markdown",
   "source": "### 2.3.4 张量",
   "id": "657e71a0964b9f13"
  },
  {
   "metadata": {
    "ExecuteTime": {
     "end_time": "2025-03-25T13:14:29.787058Z",
     "start_time": "2025-03-25T13:14:29.784182Z"
    }
   },
   "cell_type": "code",
   "source": [
    "X = torch.arange(24).reshape(2, 3, 4)\n",
    "X"
   ],
   "id": "57f30fcea58762a6",
   "outputs": [
    {
     "data": {
      "text/plain": [
       "tensor([[[ 0,  1,  2,  3],\n",
       "         [ 4,  5,  6,  7],\n",
       "         [ 8,  9, 10, 11]],\n",
       "\n",
       "        [[12, 13, 14, 15],\n",
       "         [16, 17, 18, 19],\n",
       "         [20, 21, 22, 23]]])"
      ]
     },
     "execution_count": 41,
     "metadata": {},
     "output_type": "execute_result"
    }
   ],
   "execution_count": 41
  },
  {
   "metadata": {},
   "cell_type": "markdown",
   "source": "### 2.3.5. 张量算法的基本性质",
   "id": "eaf9ca24b7f285c0"
  },
  {
   "metadata": {
    "ExecuteTime": {
     "end_time": "2025-03-25T13:14:29.836727Z",
     "start_time": "2025-03-25T13:14:29.832233Z"
    }
   },
   "cell_type": "code",
   "source": [
    "A = torch.arange(20, dtype=torch.float32).reshape(5, 4)\n",
    "B = A.clone()  # 通过分配新内存，将A的一个副本分配给B\n",
    "A, A + B"
   ],
   "id": "a28a7f3c133eaebd",
   "outputs": [
    {
     "data": {
      "text/plain": [
       "(tensor([[ 0.,  1.,  2.,  3.],\n",
       "         [ 4.,  5.,  6.,  7.],\n",
       "         [ 8.,  9., 10., 11.],\n",
       "         [12., 13., 14., 15.],\n",
       "         [16., 17., 18., 19.]]),\n",
       " tensor([[ 0.,  2.,  4.,  6.],\n",
       "         [ 8., 10., 12., 14.],\n",
       "         [16., 18., 20., 22.],\n",
       "         [24., 26., 28., 30.],\n",
       "         [32., 34., 36., 38.]]))"
      ]
     },
     "execution_count": 42,
     "metadata": {},
     "output_type": "execute_result"
    }
   ],
   "execution_count": 42
  },
  {
   "metadata": {
    "ExecuteTime": {
     "end_time": "2025-03-25T13:14:29.873211Z",
     "start_time": "2025-03-25T13:14:29.869971Z"
    }
   },
   "cell_type": "code",
   "source": "A*B",
   "id": "c7fde655d69ddf94",
   "outputs": [
    {
     "data": {
      "text/plain": [
       "tensor([[  0.,   1.,   4.,   9.],\n",
       "        [ 16.,  25.,  36.,  49.],\n",
       "        [ 64.,  81., 100., 121.],\n",
       "        [144., 169., 196., 225.],\n",
       "        [256., 289., 324., 361.]])"
      ]
     },
     "execution_count": 43,
     "metadata": {},
     "output_type": "execute_result"
    }
   ],
   "execution_count": 43
  },
  {
   "metadata": {
    "ExecuteTime": {
     "end_time": "2025-03-25T13:14:29.926938Z",
     "start_time": "2025-03-25T13:14:29.923230Z"
    }
   },
   "cell_type": "code",
   "source": [
    "a = 2\n",
    "X = torch.arange(24).reshape(2, 3, 4)\n",
    "a + X, (a * X).shape"
   ],
   "id": "f0642037126c3493",
   "outputs": [
    {
     "data": {
      "text/plain": [
       "(tensor([[[ 2,  3,  4,  5],\n",
       "          [ 6,  7,  8,  9],\n",
       "          [10, 11, 12, 13]],\n",
       " \n",
       "         [[14, 15, 16, 17],\n",
       "          [18, 19, 20, 21],\n",
       "          [22, 23, 24, 25]]]),\n",
       " torch.Size([2, 3, 4]))"
      ]
     },
     "execution_count": 44,
     "metadata": {},
     "output_type": "execute_result"
    }
   ],
   "execution_count": 44
  },
  {
   "metadata": {},
   "cell_type": "markdown",
   "source": "### 2.3.6. 降维\n",
   "id": "7bc94ce308502fea"
  },
  {
   "metadata": {
    "ExecuteTime": {
     "end_time": "2025-03-25T13:14:29.966288Z",
     "start_time": "2025-03-25T13:14:29.962936Z"
    }
   },
   "cell_type": "code",
   "source": [
    "# 求和\n",
    "x = torch.arange(4, dtype=torch.float32)\n",
    "x, x.sum()"
   ],
   "id": "d138f31baf4d657b",
   "outputs": [
    {
     "data": {
      "text/plain": [
       "(tensor([0., 1., 2., 3.]), tensor(6.))"
      ]
     },
     "execution_count": 45,
     "metadata": {},
     "output_type": "execute_result"
    }
   ],
   "execution_count": 45
  },
  {
   "metadata": {
    "ExecuteTime": {
     "end_time": "2025-03-25T13:14:30.008202Z",
     "start_time": "2025-03-25T13:14:30.005211Z"
    }
   },
   "cell_type": "code",
   "source": "A.shape, A.sum()",
   "id": "acecc9311853b1fc",
   "outputs": [
    {
     "data": {
      "text/plain": [
       "(torch.Size([5, 4]), tensor(190.))"
      ]
     },
     "execution_count": 46,
     "metadata": {},
     "output_type": "execute_result"
    }
   ],
   "execution_count": 46
  },
  {
   "metadata": {},
   "cell_type": "markdown",
   "source": "调用求和函数会沿所有的轴降低张量的维度，使它变为一个标量。 我们还可以指定张量沿哪一个轴来通过求和降低维度",
   "id": "8098c3838c9fd5d8"
  },
  {
   "metadata": {
    "ExecuteTime": {
     "end_time": "2025-03-25T13:14:30.030759Z",
     "start_time": "2025-03-25T13:14:30.026484Z"
    }
   },
   "cell_type": "code",
   "source": [
    "# 通过求和所有行的元素来降维（轴0），可以在调用函数时指定axis=0\n",
    "print(A)\n",
    "A_sum_axis0 = A.sum(axis=0)\n",
    "A_sum_axis0, A_sum_axis0.shape"
   ],
   "id": "f83b3537d188a655",
   "outputs": [
    {
     "name": "stdout",
     "output_type": "stream",
     "text": [
      "tensor([[ 0.,  1.,  2.,  3.],\n",
      "        [ 4.,  5.,  6.,  7.],\n",
      "        [ 8.,  9., 10., 11.],\n",
      "        [12., 13., 14., 15.],\n",
      "        [16., 17., 18., 19.]])\n"
     ]
    },
    {
     "data": {
      "text/plain": [
       "(tensor([40., 45., 50., 55.]), torch.Size([4]))"
      ]
     },
     "execution_count": 47,
     "metadata": {},
     "output_type": "execute_result"
    }
   ],
   "execution_count": 47
  },
  {
   "metadata": {
    "ExecuteTime": {
     "end_time": "2025-03-25T13:14:30.052450Z",
     "start_time": "2025-03-25T13:14:30.048990Z"
    }
   },
   "cell_type": "code",
   "source": [
    "# 指定axis=1将通过汇总所有列的元素降维（轴1）\n",
    "print(A)\n",
    "A_sum_axis1 = A.sum(axis=1)\n",
    "A_sum_axis1, A_sum_axis1.shape"
   ],
   "id": "5bdd0802aa923bb2",
   "outputs": [
    {
     "name": "stdout",
     "output_type": "stream",
     "text": [
      "tensor([[ 0.,  1.,  2.,  3.],\n",
      "        [ 4.,  5.,  6.,  7.],\n",
      "        [ 8.,  9., 10., 11.],\n",
      "        [12., 13., 14., 15.],\n",
      "        [16., 17., 18., 19.]])\n"
     ]
    },
    {
     "data": {
      "text/plain": [
       "(tensor([ 6., 22., 38., 54., 70.]), torch.Size([5]))"
      ]
     },
     "execution_count": 48,
     "metadata": {},
     "output_type": "execute_result"
    }
   ],
   "execution_count": 48
  },
  {
   "metadata": {
    "ExecuteTime": {
     "end_time": "2025-03-25T13:14:30.081232Z",
     "start_time": "2025-03-25T13:14:30.077410Z"
    }
   },
   "cell_type": "code",
   "source": [
    "# 沿着行和列对矩阵求和\n",
    "A.sum(axis=[0, 1])  # 结果和A.sum()相同"
   ],
   "id": "317b9c7df2697bb6",
   "outputs": [
    {
     "data": {
      "text/plain": [
       "tensor(190.)"
      ]
     },
     "execution_count": 49,
     "metadata": {},
     "output_type": "execute_result"
    }
   ],
   "execution_count": 49
  },
  {
   "metadata": {
    "ExecuteTime": {
     "end_time": "2025-03-25T13:14:30.110501Z",
     "start_time": "2025-03-25T13:14:30.105462Z"
    }
   },
   "cell_type": "code",
   "source": [
    "# 矩阵平均值\n",
    "print(A.numel()) # 有20个数\n",
    "A.mean(), A.sum() / A.numel() # sum/20"
   ],
   "id": "2523ed87529f72ca",
   "outputs": [
    {
     "name": "stdout",
     "output_type": "stream",
     "text": [
      "20\n"
     ]
    },
    {
     "data": {
      "text/plain": [
       "(tensor(9.5000), tensor(9.5000))"
      ]
     },
     "execution_count": 50,
     "metadata": {},
     "output_type": "execute_result"
    }
   ],
   "execution_count": 50
  },
  {
   "metadata": {
    "ExecuteTime": {
     "end_time": "2025-03-25T13:14:30.129916Z",
     "start_time": "2025-03-25T13:14:30.126266Z"
    }
   },
   "cell_type": "code",
   "source": [
    "# 计算平均值的函数也可以沿指定轴降低张量的维度\n",
    "print(A.shape[0]) # shape[0] row的数量\n",
    "A.mean(axis=0), A.sum(axis=0) / A.shape[0]"
   ],
   "id": "2cae4d504787b40a",
   "outputs": [
    {
     "name": "stdout",
     "output_type": "stream",
     "text": [
      "5\n"
     ]
    },
    {
     "data": {
      "text/plain": [
       "(tensor([ 8.,  9., 10., 11.]), tensor([ 8.,  9., 10., 11.]))"
      ]
     },
     "execution_count": 51,
     "metadata": {},
     "output_type": "execute_result"
    }
   ],
   "execution_count": 51
  },
  {
   "metadata": {},
   "cell_type": "markdown",
   "source": [
    "### 非降维求和\n",
    "有时在调用函数来计算总和或均值时保持轴数不变会很有用"
   ],
   "id": "d7954e5f8cc46a97"
  },
  {
   "metadata": {
    "ExecuteTime": {
     "end_time": "2025-03-25T13:14:30.152905Z",
     "start_time": "2025-03-25T13:14:30.149679Z"
    }
   },
   "cell_type": "code",
   "source": [
    "sum_A = A.sum(axis=1, keepdims=True) # keep dimensions=true\n",
    "sum_A"
   ],
   "id": "6b7a453e382ecfd2",
   "outputs": [
    {
     "data": {
      "text/plain": [
       "tensor([[ 6.],\n",
       "        [22.],\n",
       "        [38.],\n",
       "        [54.],\n",
       "        [70.]])"
      ]
     },
     "execution_count": 52,
     "metadata": {},
     "output_type": "execute_result"
    }
   ],
   "execution_count": 52
  },
  {
   "metadata": {
    "ExecuteTime": {
     "end_time": "2025-03-25T13:14:30.191768Z",
     "start_time": "2025-03-25T13:14:30.188805Z"
    }
   },
   "cell_type": "code",
   "source": [
    "# 由于sum_A在对每行进行求和后仍保持两个轴，我们可以通过广播将A除以sum_A\n",
    "A / sum_A"
   ],
   "id": "e98275d194432ff5",
   "outputs": [
    {
     "data": {
      "text/plain": [
       "tensor([[0.0000, 0.1667, 0.3333, 0.5000],\n",
       "        [0.1818, 0.2273, 0.2727, 0.3182],\n",
       "        [0.2105, 0.2368, 0.2632, 0.2895],\n",
       "        [0.2222, 0.2407, 0.2593, 0.2778],\n",
       "        [0.2286, 0.2429, 0.2571, 0.2714]])"
      ]
     },
     "execution_count": 53,
     "metadata": {},
     "output_type": "execute_result"
    }
   ],
   "execution_count": 53
  },
  {
   "metadata": {
    "ExecuteTime": {
     "end_time": "2025-03-25T13:14:30.233132Z",
     "start_time": "2025-03-25T13:14:30.229153Z"
    }
   },
   "cell_type": "code",
   "source": [
    "# 如果我们想沿某个轴计算A元素的累积总和， 比如axis=0（按行计算），可以调用cumsum函数。 此函数不会沿任何轴降低输入张量的维度。\n",
    "print(A)\n",
    "print(A.cumsum(axis=0)) # 每一行都 加上第一行的数"
   ],
   "id": "bd254a26aadff587",
   "outputs": [
    {
     "name": "stdout",
     "output_type": "stream",
     "text": [
      "tensor([[ 0.,  1.,  2.,  3.],\n",
      "        [ 4.,  5.,  6.,  7.],\n",
      "        [ 8.,  9., 10., 11.],\n",
      "        [12., 13., 14., 15.],\n",
      "        [16., 17., 18., 19.]])\n",
      "tensor([[ 0.,  1.,  2.,  3.],\n",
      "        [ 4.,  6.,  8., 10.],\n",
      "        [12., 15., 18., 21.],\n",
      "        [24., 28., 32., 36.],\n",
      "        [40., 45., 50., 55.]])\n"
     ]
    }
   ],
   "execution_count": 54
  },
  {
   "metadata": {},
   "cell_type": "markdown",
   "source": "### 2.3.7. 点积（Dot Product）",
   "id": "c401149b287201a4"
  },
  {
   "metadata": {
    "ExecuteTime": {
     "end_time": "2025-03-25T13:14:30.273836Z",
     "start_time": "2025-03-25T13:14:30.269682Z"
    }
   },
   "cell_type": "code",
   "source": [
    "y = torch.ones(4, dtype = torch.float32)\n",
    "x, y, torch.dot(x, y)"
   ],
   "id": "b53b2a214d9c258e",
   "outputs": [
    {
     "data": {
      "text/plain": [
       "(tensor([0., 1., 2., 3.]), tensor([1., 1., 1., 1.]), tensor(6.))"
      ]
     },
     "execution_count": 55,
     "metadata": {},
     "output_type": "execute_result"
    }
   ],
   "execution_count": 55
  },
  {
   "metadata": {
    "ExecuteTime": {
     "end_time": "2025-03-25T13:14:30.307228Z",
     "start_time": "2025-03-25T13:14:30.303862Z"
    }
   },
   "cell_type": "code",
   "source": [
    "# 通过执行按元素乘法，然后进行求和来表示两个向量的点积\n",
    "torch.sum(x * y)"
   ],
   "id": "755c6fd5daff1099",
   "outputs": [
    {
     "data": {
      "text/plain": [
       "tensor(6.)"
      ]
     },
     "execution_count": 56,
     "metadata": {},
     "output_type": "execute_result"
    }
   ],
   "execution_count": 56
  },
  {
   "metadata": {},
   "cell_type": "markdown",
   "source": "### 2.3.8. 矩阵-向量积¶",
   "id": "b11002044bf47d42"
  },
  {
   "metadata": {
    "ExecuteTime": {
     "end_time": "2025-03-25T13:16:15.906892Z",
     "start_time": "2025-03-25T13:16:15.901483Z"
    }
   },
   "cell_type": "code",
   "source": "A.shape, x.shape, torch.mv(A, x)",
   "id": "eb67e82524cb2605",
   "outputs": [
    {
     "data": {
      "text/plain": [
       "(torch.Size([5, 4]), torch.Size([4]), tensor([ 14.,  38.,  62.,  86., 110.]))"
      ]
     },
     "execution_count": 57,
     "metadata": {},
     "output_type": "execute_result"
    }
   ],
   "execution_count": 57
  },
  {
   "metadata": {},
   "cell_type": "markdown",
   "source": "### 2.3.9. 矩阵-矩阵乘法",
   "id": "44760bf70b6c3943"
  },
  {
   "metadata": {
    "ExecuteTime": {
     "end_time": "2025-03-25T13:17:59.212110Z",
     "start_time": "2025-03-25T13:17:59.206638Z"
    }
   },
   "cell_type": "code",
   "source": [
    "B=torch.ones(4,3)\n",
    "torch.mm(A, B)"
   ],
   "id": "bb19012eab5575e",
   "outputs": [
    {
     "data": {
      "text/plain": [
       "tensor([[ 6.,  6.,  6.],\n",
       "        [22., 22., 22.],\n",
       "        [38., 38., 38.],\n",
       "        [54., 54., 54.],\n",
       "        [70., 70., 70.]])"
      ]
     },
     "execution_count": 58,
     "metadata": {},
     "output_type": "execute_result"
    }
   ],
   "execution_count": 58
  },
  {
   "metadata": {},
   "cell_type": "markdown",
   "source": [
    "### 2.3.10. 范数\n",
    "\n",
    "欧几里得距离是 $L_2$ 范数 $\\|x\\| = \\|x\\|_2$，\n",
    "$$\n",
    "\\|x\\|_2 = \\sqrt{\\sum_{i=1}^n x_i^2}\n",
    "$$"
   ],
   "id": "73c000c727749667"
  },
  {
   "metadata": {
    "ExecuteTime": {
     "end_time": "2025-03-25T13:25:34.197351Z",
     "start_time": "2025-03-25T13:25:34.193009Z"
    }
   },
   "cell_type": "code",
   "source": [
    "u = torch.tensor([3.0, -4.0])\n",
    "torch.norm(u)"
   ],
   "id": "a0134b516560cbf9",
   "outputs": [
    {
     "data": {
      "text/plain": [
       "(tensor([ 3., -4.]), tensor(5.))"
      ]
     },
     "execution_count": 60,
     "metadata": {},
     "output_type": "execute_result"
    }
   ],
   "execution_count": 60
  },
  {
   "metadata": {},
   "cell_type": "markdown",
   "source": [
    "经常遇到$L_1$范数，它表示为向量元素的绝对值之和:\n",
    "$$\n",
    "\\|x\\|_1 = \\sum_{i=1}^n |x_i|\n",
    "$$\n"
   ],
   "id": "cc4c05b64459ed2a"
  },
  {
   "metadata": {
    "ExecuteTime": {
     "end_time": "2025-03-25T13:27:32.116468Z",
     "start_time": "2025-03-25T13:27:32.111558Z"
    }
   },
   "cell_type": "code",
   "source": "torch.abs(u).sum()",
   "id": "a90e40eb4e72ecf4",
   "outputs": [
    {
     "data": {
      "text/plain": [
       "tensor(7.)"
      ]
     },
     "execution_count": 61,
     "metadata": {},
     "output_type": "execute_result"
    }
   ],
   "execution_count": 61
  },
  {
   "metadata": {},
   "cell_type": "markdown",
   "source": [
    "矩阵运算中最常用的$F$范数, Frobenius范数（Frobenius norm）是矩阵元素平方和的平方根:\n",
    "$$\n",
    "\\|X\\|_F = \\sqrt{\\sum_{i=1}^m \\sum_{j=1}^n x_{ij}^2}\n",
    "$$\n"
   ],
   "id": "ffff45949191c6b0"
  },
  {
   "metadata": {
    "ExecuteTime": {
     "end_time": "2025-03-25T13:32:14.803212Z",
     "start_time": "2025-03-25T13:32:14.798416Z"
    }
   },
   "cell_type": "code",
   "source": [
    "N = torch.ones((4,9))\n",
    "N, torch.norm(N)"
   ],
   "id": "9d4d4aa5165ca1cb",
   "outputs": [
    {
     "data": {
      "text/plain": [
       "(tensor([[1., 1., 1., 1., 1., 1., 1., 1., 1.],\n",
       "         [1., 1., 1., 1., 1., 1., 1., 1., 1.],\n",
       "         [1., 1., 1., 1., 1., 1., 1., 1., 1.],\n",
       "         [1., 1., 1., 1., 1., 1., 1., 1., 1.]]),\n",
       " tensor(6.))"
      ]
     },
     "execution_count": 63,
     "metadata": {},
     "output_type": "execute_result"
    }
   ],
   "execution_count": 63
  }
 ],
 "metadata": {
  "kernelspec": {
   "display_name": "Python 3",
   "language": "python",
   "name": "python3"
  },
  "language_info": {
   "codemirror_mode": {
    "name": "ipython",
    "version": 2
   },
   "file_extension": ".py",
   "mimetype": "text/x-python",
   "name": "python",
   "nbconvert_exporter": "python",
   "pygments_lexer": "ipython2",
   "version": "2.7.6"
  }
 },
 "nbformat": 4,
 "nbformat_minor": 5
}
