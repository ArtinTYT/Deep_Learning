{
 "cells": [
  {
   "cell_type": "code",
   "id": "initial_id",
   "metadata": {
    "collapsed": true
   },
   "source": [
    "%matplotlib inline\n",
    "import math\n",
    "import torch\n",
    "from torch import nn\n",
    "from torch.nn import functional as F\n",
    "from d2l import torch as d2l\n",
    "\n",
    "batch_size, num_steps = 32, 35\n",
    "train_iter, vocab = d2l.load_data_time_machine(batch_size, num_steps)"
   ],
   "outputs": [],
   "execution_count": null
  },
  {
   "metadata": {},
   "cell_type": "markdown",
   "source": "# 1. 独热编码",
   "id": "b46a75215a83ede3"
  },
  {
   "metadata": {},
   "cell_type": "code",
   "source": [
    "# 0 表示 vocab 中的第一个词，2 表示第三个词\n",
    "F.one_hot(torch.tensor([0, 2]), len(vocab))"
   ],
   "id": "b8f5560c31a700a7",
   "outputs": [],
   "execution_count": null
  },
  {
   "metadata": {},
   "cell_type": "markdown",
   "source": "小批量数据大小形状（批量大小，时间步数）",
   "id": "4eda833f060f46a0"
  },
  {
   "metadata": {},
   "cell_type": "code",
   "source": [
    "# 生成从 0 到 9 的一维张量； 2 行 5 列的矩阵\n",
    "X = torch.arange(10).reshape((2, 5))\n",
    "# 转置，变成 5 行 2 列；\n",
    "# 每个数字都会被编码成长度为 28 的 one-hot 向量\n",
    "F.one_hot(X.T, 28).shape"
   ],
   "id": "327be003e4f184f9",
   "outputs": [],
   "execution_count": null
  },
  {
   "metadata": {},
   "cell_type": "markdown",
   "source": "# 2. 初始化模型参数\n",
   "id": "3c9e2b1fc807fb4b"
  },
  {
   "metadata": {},
   "cell_type": "code",
   "source": [
    "def get_params(vocab_size, num_hiddens, device):\n",
    "    \"\"\"\n",
    "    vocab_size: 词汇表大小，即 one-hot 编码的长度。\n",
    "    num_hiddens: 隐藏单元数量，控制模型容量。\n",
    "    device: 指定运行设备（CPU 或 GPU）。\n",
    "    \"\"\"\n",
    "    # 输入层维度 num_inputs 就是 one-hot 向量的长度\n",
    "    # = 等于词汇表大小\n",
    "    # = 输出层维度 num_outputs，因为我们要预测下一个词的概率分布\n",
    "    num_inputs = num_outputs = vocab_size\n",
    "\n",
    "    # 生成服从标准正态分布的随机数，并乘以 0.01 进行缩放\n",
    "    def normal(shape):\n",
    "        return torch.randn(size=shape, device=device) * 0.01\n",
    "\n",
    "    # 隐藏层参数\n",
    "    W_xh = normal((num_inputs, num_hiddens))   # 输入 -> 隐藏\n",
    "    W_hh = normal((num_hiddens, num_hiddens))  # 隐藏 -> 隐藏（循环）\n",
    "    b_h = torch.zeros(num_hiddens, device=device)\n",
    "\n",
    "    # 输出层参数\n",
    "    W_hq = normal((num_hiddens, num_outputs))  # 隐藏 -> 输出\n",
    "    b_q = torch.zeros(num_outputs, device=device)\n",
    "\n",
    "    # 附加梯度a\n",
    "    params = [W_xh, W_hh, b_h, W_hq, b_q]\n",
    "    # 这些参数需要计算梯度，以便优化器更新它们\n",
    "    for param in params:\n",
    "        param.requires_grad_(True)\n",
    "    return params"
   ],
   "id": "5ddd82ff19b47256",
   "outputs": [],
   "execution_count": null
  },
  {
   "metadata": {},
   "cell_type": "markdown",
   "source": "# 3. 循环神经网络模型",
   "id": "614752c2c6067b8e"
  },
  {
   "metadata": {},
   "cell_type": "code",
   "source": [
    "# 初始化隐藏状态\n",
    "def init_rnn_state(batch_size, num_hiddens, device):\n",
    "    return (torch.zeros((batch_size, num_hiddens), device = device),)"
   ],
   "id": "11480cedc82097c0",
   "outputs": [],
   "execution_count": null
  },
  {
   "metadata": {},
   "cell_type": "code",
   "source": [
    "# RNN 前向传播 rnn\n",
    "def rnn(inputs, state, params):\n",
    "    # inputs的形状：(时间步数量，批量大小，词表大小)\n",
    "    W_xh, W_hh, b_h, W_hq, b_q = params\n",
    "    H, = state\n",
    "    outputs = []\n",
    "    # X的形状：(批量大小，词表大小)\n",
    "    for X in inputs:\n",
    "        # 更新隐藏状态\n",
    "        H = torch.tanh(torch.mm(X, W_xh) + torch.mm(H, W_hh) + b_h)\n",
    "        # 计算输出\n",
    "        Y = torch.mm(H, W_hq) + b_q\n",
    "        outputs.append(Y)\n",
    "    # 所有时间步的输出拼接成一个大张量\n",
    "    # 形状变成 (T*N, V)，方便后续计算 loss\n",
    "    return torch.cat(outputs, dim=0), (H,)"
   ],
   "id": "f46c2d9b0e68444d",
   "outputs": [],
   "execution_count": null
  },
  {
   "metadata": {},
   "cell_type": "code",
   "source": [
    "# 把前面的函数包装一下\n",
    "class RNNModelScratch:\n",
    "    \"\"\"从零开始实现的循环神经网络模型\"\"\"\n",
    "    def __init__(self, vocab_size, num_hiddens, device,\n",
    "                 get_params, init_state, forward_fn):\n",
    "        self.vocab_size, self.num_hiddens = vocab_size, num_hiddens\n",
    "        self.params = get_params(vocab_size, num_hiddens, device)\n",
    "        self.init_state, self.forward_fn = init_state, forward_fn\n",
    "\n",
    "    def __call__(self, X, state):\n",
    "        X = F.one_hot(X.T, self.vocab_size).type(torch.float32)\n",
    "        # 调用前向传播函数\n",
    "        return self.forward_fn(X, state, self.params)\n",
    "    # 获取初始状态的方法\n",
    "    def begin_state(self, batch_size, device):\n",
    "        return self.init_state(batch_size, self.num_hiddens, device)"
   ],
   "id": "c8f817f7fed83826",
   "outputs": [],
   "execution_count": null
  },
  {
   "metadata": {},
   "cell_type": "code",
   "source": [
    "num_hiddens = 512\n",
    "net = RNNModelScratch(len(vocab), num_hiddens, d2l.try_gpu(), get_params,\n",
    "                      init_rnn_state, rnn)\n",
    "state = net.begin_state(X.shape[0], d2l.try_gpu())\n",
    "Y, new_state = net(X.to(d2l.try_gpu()), state)\n",
    "Y.shape, len(new_state), new_state[0].shape"
   ],
   "id": "cb4bc50fde4deb25",
   "outputs": [],
   "execution_count": null
  },
  {
   "metadata": {},
   "cell_type": "markdown",
   "source": "# 4. 预测",
   "id": "955fdb2c7d6f563f"
  },
  {
   "metadata": {},
   "cell_type": "code",
   "source": [
    "def predict_ch8(prefix, num_preds, net, vocab, device):\n",
    "    \"\"\"prefix：是给定句子/词的开头，后面生成新字符\"\"\"\n",
    "    # 1. 初始化隐藏状态\n",
    "    state = net.begin_state(batch_size=1, device=device)\n",
    "    # 2. 初始化输出序列（存储字符索引）\n",
    "    outputs = [vocab[prefix[0]]]\n",
    "    # 3. 定义输入生成函数（每次取最新输出的索引作为输入）\n",
    "    get_input = lambda: torch.tensor([outputs[-1]], device=device).reshape((1, 1))\n",
    "    # 4. 预热期（Warm-up）：输入prefix中除第一个字符外的所有字符，更新隐藏状态\n",
    "    for y in prefix[1:]:  # 预热期\n",
    "        _, state = net(get_input(), state)  # 前向传播计算state\n",
    "        outputs.append(vocab[y])            # 存储prefix剩余字符的索引\n",
    "    # 5. 预测期：生成num_preds个新字符\n",
    "    for _ in range(num_preds):\n",
    "        y, state = net(get_input(), state) # 前向传播预测下一个字符\n",
    "        outputs.append(int(y.argmax(dim=1).reshape(1))) # 前向传播预测下一个字符\n",
    "    # 6. 将索引转为字符并拼接成字符串\n",
    "    return ''.join([vocab.idx_to_token[i] for i in outputs])"
   ],
   "id": "b38240ffffea60b6",
   "outputs": [],
   "execution_count": null
  },
  {
   "metadata": {},
   "cell_type": "code",
   "source": "predict_ch8('time traveller ', 10, net, vocab, d2l.try_gpu())\n",
   "id": "8bc8ede534963e98",
   "outputs": [],
   "execution_count": null
  },
  {
   "metadata": {},
   "cell_type": "markdown",
   "source": "# 5. 梯度裁剪",
   "id": "f784059ca2877a3"
  },
  {
   "metadata": {},
   "cell_type": "code",
   "source": [
    "def grad_clipping(net, theta):\n",
    "    \"\"\"裁剪梯度\"\"\"\n",
    "    # 获取模型参数（兼容PyTorch模块和自定义模型）\n",
    "    if isinstance(net, nn.Module):\n",
    "        params = [p for p in net.parameters() if p.requires_grad]\n",
    "    else:\n",
    "        params = net.params\n",
    "    # 计算所有参数梯度的L2范数\n",
    "    norm = torch.sqrt(sum(torch.sum((p.grad ** 2)) for p in params))\n",
    "    # 如果梯度范数超过阈值theta，则进行裁剪\n",
    "    if norm > theta:\n",
    "        for param in params:\n",
    "            param.grad[:] *= theta / norm # 按比例缩放梯度"
   ],
   "id": "d1be8de7b1b2104c",
   "outputs": [],
   "execution_count": null
  },
  {
   "metadata": {},
   "cell_type": "markdown",
   "source": "# 6. 训练",
   "id": "cc2b7cf0d754c94e"
  },
  {
   "metadata": {},
   "cell_type": "code",
   "source": [
    "def train_epoch_ch8(net, train_iter, loss, updater, device, use_random_iter):\n",
    "    \"\"\"训练网络一个迭代周期（定义见第8章）\"\"\"\n",
    "    state, timer = None, d2l.Timer() # 初始化隐藏状态和计时器\n",
    "    metric = d2l.Accumulator(2)  # 累计损失和词元数量\n",
    "    for X, Y in train_iter: # 遍历训练数据\n",
    "        if state is None or use_random_iter:    # 初始或随机抽样时初始化state\n",
    "            # 在第一次迭代或使用随机抽样时初始化state\n",
    "            state = net.begin_state(batch_size=X.shape[0], device=device)\n",
    "        else:\n",
    "            # 初始或随机抽样时初始化state\n",
    "            if isinstance(net, nn.Module) and not isinstance(state, tuple):\n",
    "                # state对于nn.GRU是个张量\n",
    "                state.detach_()\n",
    "            else:\n",
    "                # state对于nn.LSTM或对于我们从零开始实现的模型是个张量\n",
    "                for s in state:\n",
    "                    s.detach_()\n",
    "        # 调整标签形状为一维\n",
    "        y = Y.T.reshape(-1)\n",
    "        # 数据移至设备\n",
    "        X, y = X.to(device), y.to(device)\n",
    "        # 前向传播\n",
    "        y_hat, state = net(X, state)\n",
    "        # 损失\n",
    "        l = loss(y_hat, y.long()).mean()\n",
    "        # PyTorch优化器\n",
    "        if isinstance(updater, torch.optim.Optimizer):\n",
    "            updater.zero_grad()\n",
    "            l.backward()\n",
    "            # 梯度裁剪\n",
    "            grad_clipping(net, 1)\n",
    "            updater.step()\n",
    "        else:       # 自定义优化器\n",
    "            l.backward()\n",
    "            grad_clipping(net, 1)\n",
    "            # 因为已经调用了mean函数\n",
    "            updater(batch_size=1)\n",
    "        metric.add(l * y.numel(), y.numel()) # 累计指标\n",
    "    # 返回困惑度和吞吐量\n",
    "    return math.exp(metric[0] / metric[1]), metric[1] / timer.stop()"
   ],
   "id": "3a7811891c506802",
   "outputs": [],
   "execution_count": null
  },
  {
   "metadata": {},
   "cell_type": "code",
   "source": [
    "def train_ch8(net, train_iter, vocab, lr, num_epochs, device,\n",
    "              use_random_iter=False):\n",
    "    \"\"\"训练模型（定义见第8章）\"\"\"\n",
    "    loss = nn.CrossEntropyLoss()  # 定义交叉熵损失\n",
    "    # 初始化可视化动画器\n",
    "    animator = d2l.Animator(xlabel='epoch', ylabel='perplexity',\n",
    "                            legend=['train'], xlim=[10, num_epochs])\n",
    "    # 初始化优化器\n",
    "    if isinstance(net, nn.Module):\n",
    "        updater = torch.optim.SGD(net.parameters(), lr)\n",
    "    else:\n",
    "        updater = lambda batch_size: d2l.sgd(net.params, lr, batch_size)\n",
    "    # 定义预测函数\n",
    "    predict = lambda prefix: predict_ch8(prefix, 50, net, vocab, device)\n",
    "    # 训练循环\n",
    "    for epoch in range(num_epochs):\n",
    "        # 训练一个epoch\n",
    "        ppl, speed = train_epoch_ch8(\n",
    "            net, train_iter, loss, updater, device, use_random_iter)\n",
    "        if (epoch + 1) % 10 == 0:\n",
    "            print(predict('time traveller')) # 每10轮生成示例文本\n",
    "            animator.add(epoch + 1, [ppl]) # 更新可视化\n",
    "    # 最终输出\n",
    "    print(f'困惑度 {ppl:.1f}, {speed:.1f} 词元/秒 {str(device)}')\n",
    "    print(predict('time traveller'))\n",
    "    print(predict('traveller'))"
   ],
   "id": "abe1028042599104",
   "outputs": [],
   "execution_count": null
  },
  {
   "metadata": {},
   "cell_type": "code",
   "source": [
    "num_epochs, lr = 500, 1\n",
    "train_ch8(net, train_iter, vocab, lr, num_epochs, d2l.try_gpu())"
   ],
   "id": "294c84271caf305f",
   "outputs": [],
   "execution_count": null
  },
  {
   "metadata": {},
   "cell_type": "markdown",
   "source": "检查一下使用随机抽样方法的结果",
   "id": "89604f3f88cf77a8"
  },
  {
   "metadata": {},
   "cell_type": "code",
   "source": [
    "net = RNNModelScratch(len(vocab), num_hiddens, d2l.try_gpu(), get_params,\n",
    "                      init_rnn_state, rnn)\n",
    "train_ch8(net, train_iter, vocab, lr, num_epochs, d2l.try_gpu(),\n",
    "          use_random_iter=True)"
   ],
   "id": "e34b9d52ed11eba6",
   "outputs": [],
   "execution_count": null
  },
  {
   "metadata": {},
   "cell_type": "code",
   "source": "",
   "id": "6997c78b246432fa",
   "outputs": [],
   "execution_count": null
  }
 ],
 "metadata": {
  "kernelspec": {
   "display_name": "Python 3",
   "language": "python",
   "name": "python3"
  },
  "language_info": {
   "codemirror_mode": {
    "name": "ipython",
    "version": 2
   },
   "file_extension": ".py",
   "mimetype": "text/x-python",
   "name": "python",
   "nbconvert_exporter": "python",
   "pygments_lexer": "ipython2",
   "version": "2.7.6"
  }
 },
 "nbformat": 4,
 "nbformat_minor": 5
}
