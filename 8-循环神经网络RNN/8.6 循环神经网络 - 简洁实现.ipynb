{
 "cells": [
  {
   "cell_type": "code",
   "id": "initial_id",
   "metadata": {
    "collapsed": true,
    "ExecuteTime": {
     "end_time": "2025-05-09T18:36:25.857403Z",
     "start_time": "2025-05-09T18:36:24.093591Z"
    }
   },
   "source": [
    "import torch\n",
    "from torch import nn\n",
    "from torch.nn import functional as F\n",
    "from d2l import torch as d2l\n",
    "\n",
    "batch_size, num_steps = 32, 35\n",
    "train_iter, vocab = d2l.load_data_time_machine(batch_size, num_steps)"
   ],
   "outputs": [],
   "execution_count": 1
  },
  {
   "metadata": {},
   "cell_type": "markdown",
   "source": "# 1. 定义模型\n",
   "id": "9d921f4e45f0f067"
  },
  {
   "metadata": {
    "ExecuteTime": {
     "end_time": "2025-05-09T18:37:39.291630Z",
     "start_time": "2025-05-09T18:37:39.283602Z"
    }
   },
   "cell_type": "code",
   "source": [
    "num_hiddens = 256\n",
    "rnn_layers = nn.RNN(len(vocab), num_hiddens)"
   ],
   "id": "8f3d6b9243fb988f",
   "outputs": [],
   "execution_count": 2
  },
  {
   "metadata": {
    "ExecuteTime": {
     "end_time": "2025-05-09T18:38:23.523007Z",
     "start_time": "2025-05-09T18:38:23.515982Z"
    }
   },
   "cell_type": "code",
   "source": [
    "state = torch.zeros((1, batch_size, num_hiddens))\n",
    "state.shape"
   ],
   "id": "4e89c32c068b680d",
   "outputs": [
    {
     "data": {
      "text/plain": [
       "torch.Size([1, 32, 256])"
      ]
     },
     "execution_count": 3,
     "metadata": {},
     "output_type": "execute_result"
    }
   ],
   "execution_count": 3
  },
  {
   "metadata": {
    "ExecuteTime": {
     "end_time": "2025-05-09T18:40:01.624224Z",
     "start_time": "2025-05-09T18:40:01.606081Z"
    }
   },
   "cell_type": "code",
   "source": [
    "X = torch.rand(size=(num_steps, batch_size, len(vocab)))\n",
    "Y, state_new = rnn_layers(X, state)\n",
    "Y.shape, state_new.shape"
   ],
   "id": "22da43141da32741",
   "outputs": [
    {
     "data": {
      "text/plain": [
       "(torch.Size([35, 32, 256]), torch.Size([1, 32, 256]))"
      ]
     },
     "execution_count": 4,
     "metadata": {},
     "output_type": "execute_result"
    }
   ],
   "execution_count": 4
  },
  {
   "metadata": {
    "ExecuteTime": {
     "end_time": "2025-05-09T19:15:53.597448Z",
     "start_time": "2025-05-09T19:15:53.585518Z"
    }
   },
   "cell_type": "code",
   "source": [
    "class RNNModel(nn.Module):\n",
    "    def __init__(self, rnn_layers, vocab_size, **kwargs):\n",
    "        super(RNNModel, self).__init__(**kwargs)\n",
    "        self.rnn = rnn_layers\n",
    "        self.vocab_size = vocab_size\n",
    "        self.num_hiddens = self.rnn.hidden_size\n",
    "\n",
    "        if not self.rnn.bidirectional:\n",
    "            self.num_directions = 1\n",
    "            self.linear = nn.Linear(self.num_hiddens, self.vocab_size)\n",
    "        else:\n",
    "            self.num_directions = 2\n",
    "            self.linear = nn.Linear(self.num_hiddens * 2, self.vocab_size)\n",
    "\n",
    "    def forward(self, inputs, state):\n",
    "        X = F.one_hot(inputs.T.long(), self.vocab_size)\n",
    "        X = X.to(torch.float32)\n",
    "        Y, state = self.rnn(X, state)\n",
    "        output = self.linear(Y.reshape((-1, Y.shape[-1])))\n",
    "        return output, state\n",
    "\n",
    "    def begin_state(self, device, batch_size):\n",
    "        if not isinstance(self.rnn, nn.LSTM):\n",
    "            return torch.zeros((self.num_directions * self.rnn.num_layers,\n",
    "                                batch_size, self.num_hiddens), device=device)\n",
    "        else:\n",
    "            return (torch.zeros((\n",
    "                batch_size, self.num_directions * self.rnn.num_layers,\n",
    "                batch_size, self.num_hiddens), device=device),\n",
    "                torch.zeros((\n",
    "                    self.num_directions * self.rnn.num_layers,\n",
    "                    batch_size, self.num_hiddens), device=device\n",
    "                ))"
   ],
   "id": "c25ceca6ea6ca683",
   "outputs": [],
   "execution_count": 5
  },
  {
   "metadata": {
    "ExecuteTime": {
     "end_time": "2025-05-09T19:17:08.090333Z",
     "start_time": "2025-05-09T19:17:07.856856Z"
    }
   },
   "cell_type": "code",
   "source": [
    "device = d2l.try_gpu()\n",
    "net = RNNModel(rnn_layer, vocab_size=len(vocab))\n",
    "net = net.to(device)\n",
    "d2l.predict_ch8('time traveller', 10, net, train_iter, device)"
   ],
   "id": "3c3da67c086aef23",
   "outputs": [
    {
     "ename": "NameError",
     "evalue": "name 'rnn_layer' is not defined",
     "output_type": "error",
     "traceback": [
      "\u001B[0;31m---------------------------------------------------------------------------\u001B[0m",
      "\u001B[0;31mNameError\u001B[0m                                 Traceback (most recent call last)",
      "Cell \u001B[0;32mIn[6], line 2\u001B[0m\n\u001B[1;32m      1\u001B[0m device \u001B[38;5;241m=\u001B[39m d2l\u001B[38;5;241m.\u001B[39mtry_gpu()\n\u001B[0;32m----> 2\u001B[0m net \u001B[38;5;241m=\u001B[39m RNNModel(\u001B[43mrnn_layer\u001B[49m, vocab_size\u001B[38;5;241m=\u001B[39m\u001B[38;5;28mlen\u001B[39m(vocab))\n\u001B[1;32m      3\u001B[0m net \u001B[38;5;241m=\u001B[39m net\u001B[38;5;241m.\u001B[39mto(device)\n\u001B[1;32m      4\u001B[0m d2l\u001B[38;5;241m.\u001B[39mpredict_ch8(\u001B[38;5;124m'\u001B[39m\u001B[38;5;124mtime traveller\u001B[39m\u001B[38;5;124m'\u001B[39m, \u001B[38;5;241m10\u001B[39m, net, train_iter, device)\n",
      "\u001B[0;31mNameError\u001B[0m: name 'rnn_layer' is not defined"
     ]
    }
   ],
   "execution_count": 6
  },
  {
   "metadata": {
    "ExecuteTime": {
     "end_time": "2025-05-09T19:17:53.236502Z",
     "start_time": "2025-05-09T19:17:53.213948Z"
    }
   },
   "cell_type": "code",
   "source": [
    "num_epochs, lr = 500, 1\n",
    "d2l.train_ch8(net, train_iter, vocab, lr, num_epochs, device)"
   ],
   "id": "fcfe1226885889fa",
   "outputs": [
    {
     "ename": "NameError",
     "evalue": "name 'net' is not defined",
     "output_type": "error",
     "traceback": [
      "\u001B[0;31m---------------------------------------------------------------------------\u001B[0m",
      "\u001B[0;31mNameError\u001B[0m                                 Traceback (most recent call last)",
      "Cell \u001B[0;32mIn[7], line 2\u001B[0m\n\u001B[1;32m      1\u001B[0m num_epochs, lr \u001B[38;5;241m=\u001B[39m \u001B[38;5;241m500\u001B[39m, \u001B[38;5;241m1\u001B[39m\n\u001B[0;32m----> 2\u001B[0m d2l\u001B[38;5;241m.\u001B[39mtrain_ch8(\u001B[43mnet\u001B[49m, train_iter, vocab, lr, num_epochs, device)\n",
      "\u001B[0;31mNameError\u001B[0m: name 'net' is not defined"
     ]
    }
   ],
   "execution_count": 7
  },
  {
   "metadata": {},
   "cell_type": "code",
   "outputs": [],
   "execution_count": null,
   "source": "",
   "id": "8402e3715a20e451"
  }
 ],
 "metadata": {
  "kernelspec": {
   "display_name": "Python 3",
   "language": "python",
   "name": "python3"
  },
  "language_info": {
   "codemirror_mode": {
    "name": "ipython",
    "version": 2
   },
   "file_extension": ".py",
   "mimetype": "text/x-python",
   "name": "python",
   "nbconvert_exporter": "python",
   "pygments_lexer": "ipython2",
   "version": "2.7.6"
  }
 },
 "nbformat": 4,
 "nbformat_minor": 5
}
